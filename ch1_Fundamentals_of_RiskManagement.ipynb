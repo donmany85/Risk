{
 "cells": [
  {
   "cell_type": "code",
   "execution_count": 4,
   "metadata": {},
   "outputs": [],
   "source": [
    "import statsmodels.api as sm \n",
    "import numpy as np \n",
    "import plotly.graph_objs as go \n",
    "import matplotlib.pyplot as plt \n",
    "import plotly\n",
    "import warnings\n",
    "warnings.filterwarnings('ignore')\n"
   ]
  },
  {
   "cell_type": "code",
   "execution_count": 5,
   "metadata": {},
   "outputs": [],
   "source": [
    "n_assets=5\n",
    "n_simulation=500\n"
   ]
  },
  {
   "cell_type": "code",
   "execution_count": 6,
   "metadata": {},
   "outputs": [],
   "source": [
    "returns=np.random.randn(n_assets, n_simulation)\n"
   ]
  },
  {
   "cell_type": "code",
   "execution_count": 8,
   "metadata": {},
   "outputs": [],
   "source": [
    "rand=np.random.rand(n_assets)\n",
    "weights=rand/sum(rand)\n",
    "\n",
    "def port_return(returns):\n",
    "    rets=np.mean(returns, axis=1)\n",
    "    cov=np.cov(rets.T, aweights=weights,ddof=1)\n",
    "    portfolio_returns=np.dot(weights, rets.T)\n",
    "    portfolio_std_dev=np.sqrt(np.dot(weights, np.dot(cov, weights)))\n",
    "    return portfolio_returns, portfolio_std_dev"
   ]
  },
  {
   "cell_type": "code",
   "execution_count": 9,
   "metadata": {},
   "outputs": [],
   "source": [
    "portfolio_returns, portfolio_std_dev=port_return(returns)\n"
   ]
  },
  {
   "cell_type": "code",
   "execution_count": 10,
   "metadata": {},
   "outputs": [
    {
     "name": "stdout",
     "output_type": "stream",
     "text": [
      "0.018052648983267885\n",
      "0.0176851834787762\n"
     ]
    }
   ],
   "source": [
    "print(portfolio_returns)\n",
    "print(portfolio_std_dev)"
   ]
  },
  {
   "cell_type": "code",
   "execution_count": 11,
   "metadata": {},
   "outputs": [],
   "source": [
    "portfolio=np.array([port_return(np.random.randn(n_assets, i))\n",
    "for i in range(1,101)])"
   ]
  },
  {
   "cell_type": "code",
   "execution_count": 12,
   "metadata": {},
   "outputs": [],
   "source": [
    "best_fit=sm.OLS(portfolio[:,1], sm.add_constant(portfolio[:,0]))\\\n",
    "    .fit().fittedvalues"
   ]
  },
  {
   "cell_type": "code",
   "execution_count": 15,
   "metadata": {},
   "outputs": [
    {
     "data": {
      "application/vnd.plotly.v1+json": {
       "config": {
        "plotlyServerURL": "https://plot.ly"
       },
       "data": [
        {
         "mode": "markers",
         "name": "Risk-Return Relationship",
         "type": "scatter",
         "x": [
          -0.498756916455449,
          0.41319353735690656,
          0.14733669666835908,
          0.005540262608621019,
          -0.2602771359878629,
          -0.04401227265815111,
          0.0306019494590889,
          0.11756745868719205,
          -0.2737426323989692,
          0.20195359660446033,
          -0.09912594005862584,
          0.01829784553503694,
          -0.0277095701546144,
          -0.0672223909426831,
          0.022363827063377237,
          -0.09310109959353945,
          -0.08930602744162211,
          0.016113765381521955,
          0.20336737793875798,
          -0.051986774783975065,
          0.0010283930611449457,
          -0.153046232891805,
          0.1597853849408578,
          -0.1563864928629552,
          -0.042126439412198666,
          0.05067355154895473,
          0.018379957693846774,
          -0.03665004808869351,
          -0.004472876712334647,
          -0.21917567211248629,
          0.09386588864889511,
          0.05676562020879604,
          -0.15852987865984733,
          0.06915876310109598,
          -0.07585532036262906,
          0.013783362670932938,
          -0.09949479599116365,
          -0.06170464561677105,
          -0.01756833314084567,
          0.05434302474028762,
          0.008839612926696612,
          -0.14288750656660842,
          0.03182530674603322,
          -0.08977328828866217,
          0.09764212827130134,
          0.019739518839567136,
          -0.12369551533869313,
          0.06057997059888651,
          -0.09392936073867549,
          0.061006366418356966,
          -0.0967341652069546,
          -0.059108680238751675,
          0.023648626455814527,
          0.01659195548972628,
          0.021468834681618858,
          -0.07929468983410025,
          0.010843978951460567,
          -0.043422541437187906,
          0.0639554307648128,
          -0.02681594404958853,
          0.014655039673958217,
          -0.07130025844712098,
          -0.01886931880670054,
          0.0481876152022898,
          0.003933993744126238,
          -0.0703002047652878,
          0.11044602397023418,
          0.05842911914783147,
          0.0974288010916688,
          -0.01281670204757233,
          -0.03993181805711385,
          -0.037481212567263264,
          0.06902849533454283,
          0.08082083327318867,
          -0.08185991253539797,
          0.05857369014666841,
          0.011129371304344673,
          -0.005617972925305019,
          -0.00854912249303717,
          0.03408962694830216,
          0.0565733967623301,
          -0.0011539729308149694,
          0.004531971429727062,
          -0.029174027828603732,
          -0.0654302273494615,
          -0.03521188162455569,
          0.04649755659049489,
          0.01771604313721959,
          -0.08373744992597112,
          -0.0033594792672049507,
          0.09884362484197798,
          0.03512065685191486,
          0.006483926781858124,
          0.006943173641969622,
          -0.0751378871646827,
          -0.04053239222732832,
          -0.05633539882965649,
          -0.041176498229587584,
          -0.04540150646752304,
          -0.03410178529599811
         ],
         "y": [
          0.3505454937908662,
          0.14793473196366508,
          0.28262454463916276,
          0.17628229281416516,
          0.33070479816071147,
          0.19843623328861554,
          0.08585966680547445,
          0.21758045832186196,
          0.1382735421816664,
          0.20300788119165894,
          0.15509084413705587,
          0.11206501225237445,
          0.08808509254709054,
          0.06366218954726156,
          0.12125972761264757,
          0.07487340684131019,
          0.11859803003294231,
          0.17534334292272993,
          0.1578184849601489,
          0.14168897708366154,
          0.047608631729583344,
          0.14454281477416833,
          0.13904480925021878,
          0.09252988649980931,
          0.10421670434613133,
          0.12558054521196096,
          0.05926120440360601,
          0.03803326730858999,
          0.12052925792936363,
          0.04511899671713289,
          0.04089161810207191,
          0.08198579128715446,
          0.08761245318053708,
          0.06437407173538859,
          0.03479910753003731,
          0.057579130905484305,
          0.056537107066950906,
          0.075493210270648,
          0.06328985211076003,
          0.08887664808178918,
          0.09464323163305818,
          0.0582016327504643,
          0.09203991377014915,
          0.11825289856344176,
          0.07407430661147321,
          0.03964790819950062,
          0.1267854915147827,
          0.09836447717758179,
          0.06586634150481033,
          0.06768787195986982,
          0.12797097373027277,
          0.0688579267867538,
          0.10345432442817519,
          0.044382081719154816,
          0.05036731770399151,
          0.07701554878838296,
          0.08645686880411234,
          0.014836022856963588,
          0.02296802495574512,
          0.09150809420122555,
          0.09970039635394397,
          0.06069413246974632,
          0.04085175980865011,
          0.04928803869161698,
          0.04694268193069115,
          0.05706433923529748,
          0.07117216759567772,
          0.06424589852166797,
          0.0560796573967412,
          0.06161994845833492,
          0.023395411048690043,
          0.0926398814765709,
          0.04741355052784984,
          0.07072734831901326,
          0.05673630576485413,
          0.04328063206322051,
          0.06705280853381936,
          0.02950217166698914,
          0.027561828161824713,
          0.03635948692983893,
          0.07723791600997222,
          0.03412621245597292,
          0.07875593954652059,
          0.04713202164420224,
          0.023930979661144228,
          0.035198968615301134,
          0.07066409687802178,
          0.07465914462025415,
          0.05948783653501796,
          0.0459843950926445,
          0.044289352855386765,
          0.06575962480153269,
          0.06851074346914131,
          0.03477575743810499,
          0.04592141455633168,
          0.05482200482459757,
          0.02126089358835614,
          0.04799688626787549,
          0.027315225813443963,
          0.02980272190769582
         ]
        },
        {
         "mode": "lines",
         "name": "Best Fit Line",
         "type": "scatter",
         "x": [
          -0.498756916455449,
          0.41319353735690656,
          0.14733669666835908,
          0.005540262608621019,
          -0.2602771359878629,
          -0.04401227265815111,
          0.0306019494590889,
          0.11756745868719205,
          -0.2737426323989692,
          0.20195359660446033,
          -0.09912594005862584,
          0.01829784553503694,
          -0.0277095701546144,
          -0.0672223909426831,
          0.022363827063377237,
          -0.09310109959353945,
          -0.08930602744162211,
          0.016113765381521955,
          0.20336737793875798,
          -0.051986774783975065,
          0.0010283930611449457,
          -0.153046232891805,
          0.1597853849408578,
          -0.1563864928629552,
          -0.042126439412198666,
          0.05067355154895473,
          0.018379957693846774,
          -0.03665004808869351,
          -0.004472876712334647,
          -0.21917567211248629,
          0.09386588864889511,
          0.05676562020879604,
          -0.15852987865984733,
          0.06915876310109598,
          -0.07585532036262906,
          0.013783362670932938,
          -0.09949479599116365,
          -0.06170464561677105,
          -0.01756833314084567,
          0.05434302474028762,
          0.008839612926696612,
          -0.14288750656660842,
          0.03182530674603322,
          -0.08977328828866217,
          0.09764212827130134,
          0.019739518839567136,
          -0.12369551533869313,
          0.06057997059888651,
          -0.09392936073867549,
          0.061006366418356966,
          -0.0967341652069546,
          -0.059108680238751675,
          0.023648626455814527,
          0.01659195548972628,
          0.021468834681618858,
          -0.07929468983410025,
          0.010843978951460567,
          -0.043422541437187906,
          0.0639554307648128,
          -0.02681594404958853,
          0.014655039673958217,
          -0.07130025844712098,
          -0.01886931880670054,
          0.0481876152022898,
          0.003933993744126238,
          -0.0703002047652878,
          0.11044602397023418,
          0.05842911914783147,
          0.0974288010916688,
          -0.01281670204757233,
          -0.03993181805711385,
          -0.037481212567263264,
          0.06902849533454283,
          0.08082083327318867,
          -0.08185991253539797,
          0.05857369014666841,
          0.011129371304344673,
          -0.005617972925305019,
          -0.00854912249303717,
          0.03408962694830216,
          0.0565733967623301,
          -0.0011539729308149694,
          0.004531971429727062,
          -0.029174027828603732,
          -0.0654302273494615,
          -0.03521188162455569,
          0.04649755659049489,
          0.01771604313721959,
          -0.08373744992597112,
          -0.0033594792672049507,
          0.09884362484197798,
          0.03512065685191486,
          0.006483926781858124,
          0.006943173641969622,
          -0.0751378871646827,
          -0.04053239222732832,
          -0.05633539882965649,
          -0.041176498229587584,
          -0.04540150646752304,
          -0.03410178529599811
         ],
         "y": [
          0.12961587914621345,
          0.04646501632845538,
          0.07070561580054532,
          0.08363449344653923,
          0.10787149662239104,
          0.0881526512532651,
          0.08134939026294714,
          0.07341994947208769,
          0.1090992690744713,
          0.06572569355243114,
          0.09317786833413008,
          0.0824712679408487,
          0.08666618477500045,
          0.09026892999778795,
          0.0821005352208098,
          0.09262852853072628,
          0.09228249709604869,
          0.08267041050223316,
          0.06559678617890986,
          0.08887975954026942,
          0.08404588185500533,
          0.09809427454207913,
          0.06957055504534715,
          0.0983988365909006,
          0.08798070258996235,
          0.07951927874216219,
          0.0824637810244002,
          0.08748136991045823,
          0.08454748293031134,
          0.1041239002809195,
          0.07558103836741208,
          0.07896380912942919,
          0.09859426867563487,
          0.07783381295451579,
          0.09105607312262817,
          0.082882894629291,
          0.09321150030275047,
          0.08976582669569491,
          0.08574151545309915,
          0.07918469931334517,
          0.08333366150491439,
          0.09716801055971219,
          0.08123784559128372,
          0.09232510154065411,
          0.07523672406667672,
          0.08233981740132446,
          0.09541810120540382,
          0.07861601992147454,
          0.0927040486739189,
          0.07857714151515036,
          0.09295978834771099,
          0.08952912879163119,
          0.08198338831048997,
          0.08262680953693742,
          0.08218213986111392,
          0.09136967189096731,
          0.08315090512416476,
          0.08809888006465648,
          0.0783082483489835,
          0.08658470471064086,
          0.08280341586528914,
          0.09064074647096695,
          0.08586013821399271,
          0.0797459442932029,
          0.08378095166852015,
          0.09054956243113138,
          0.07406927580197757,
          0.07881213271817354,
          0.07525617505655756,
          0.08530826579184216,
          0.08778059889082968,
          0.08755715477711148,
          0.07784569065811356,
          0.07677047536528939,
          0.09160356670404726,
          0.07879895085808293,
          0.08312488329339018,
          0.08465189182414959,
          0.08491915153610646,
          0.08103138681084532,
          0.07898133589895996,
          0.08424486812060451,
          0.08372642857431517,
          0.08679971277385526,
          0.09010552205334976,
          0.0873502391216432,
          0.07990004239271681,
          0.08252431618614067,
          0.09177475895834804,
          0.08444596430302781,
          0.07512717263643544,
          0.08093737838558722,
          0.0835484509538941,
          0.08350657721776625,
          0.09099065817692147,
          0.08783535873028217,
          0.08927626336342871,
          0.08789408776496828,
          0.08827932040444757,
          0.08724902148734684
         ]
        }
       ],
       "layout": {
        "height": 470,
        "template": {
         "data": {
          "bar": [
           {
            "error_x": {
             "color": "#2a3f5f"
            },
            "error_y": {
             "color": "#2a3f5f"
            },
            "marker": {
             "line": {
              "color": "#E5ECF6",
              "width": 0.5
             },
             "pattern": {
              "fillmode": "overlay",
              "size": 10,
              "solidity": 0.2
             }
            },
            "type": "bar"
           }
          ],
          "barpolar": [
           {
            "marker": {
             "line": {
              "color": "#E5ECF6",
              "width": 0.5
             },
             "pattern": {
              "fillmode": "overlay",
              "size": 10,
              "solidity": 0.2
             }
            },
            "type": "barpolar"
           }
          ],
          "carpet": [
           {
            "aaxis": {
             "endlinecolor": "#2a3f5f",
             "gridcolor": "white",
             "linecolor": "white",
             "minorgridcolor": "white",
             "startlinecolor": "#2a3f5f"
            },
            "baxis": {
             "endlinecolor": "#2a3f5f",
             "gridcolor": "white",
             "linecolor": "white",
             "minorgridcolor": "white",
             "startlinecolor": "#2a3f5f"
            },
            "type": "carpet"
           }
          ],
          "choropleth": [
           {
            "colorbar": {
             "outlinewidth": 0,
             "ticks": ""
            },
            "type": "choropleth"
           }
          ],
          "contour": [
           {
            "colorbar": {
             "outlinewidth": 0,
             "ticks": ""
            },
            "colorscale": [
             [
              0,
              "#0d0887"
             ],
             [
              0.1111111111111111,
              "#46039f"
             ],
             [
              0.2222222222222222,
              "#7201a8"
             ],
             [
              0.3333333333333333,
              "#9c179e"
             ],
             [
              0.4444444444444444,
              "#bd3786"
             ],
             [
              0.5555555555555556,
              "#d8576b"
             ],
             [
              0.6666666666666666,
              "#ed7953"
             ],
             [
              0.7777777777777778,
              "#fb9f3a"
             ],
             [
              0.8888888888888888,
              "#fdca26"
             ],
             [
              1,
              "#f0f921"
             ]
            ],
            "type": "contour"
           }
          ],
          "contourcarpet": [
           {
            "colorbar": {
             "outlinewidth": 0,
             "ticks": ""
            },
            "type": "contourcarpet"
           }
          ],
          "heatmap": [
           {
            "colorbar": {
             "outlinewidth": 0,
             "ticks": ""
            },
            "colorscale": [
             [
              0,
              "#0d0887"
             ],
             [
              0.1111111111111111,
              "#46039f"
             ],
             [
              0.2222222222222222,
              "#7201a8"
             ],
             [
              0.3333333333333333,
              "#9c179e"
             ],
             [
              0.4444444444444444,
              "#bd3786"
             ],
             [
              0.5555555555555556,
              "#d8576b"
             ],
             [
              0.6666666666666666,
              "#ed7953"
             ],
             [
              0.7777777777777778,
              "#fb9f3a"
             ],
             [
              0.8888888888888888,
              "#fdca26"
             ],
             [
              1,
              "#f0f921"
             ]
            ],
            "type": "heatmap"
           }
          ],
          "heatmapgl": [
           {
            "colorbar": {
             "outlinewidth": 0,
             "ticks": ""
            },
            "colorscale": [
             [
              0,
              "#0d0887"
             ],
             [
              0.1111111111111111,
              "#46039f"
             ],
             [
              0.2222222222222222,
              "#7201a8"
             ],
             [
              0.3333333333333333,
              "#9c179e"
             ],
             [
              0.4444444444444444,
              "#bd3786"
             ],
             [
              0.5555555555555556,
              "#d8576b"
             ],
             [
              0.6666666666666666,
              "#ed7953"
             ],
             [
              0.7777777777777778,
              "#fb9f3a"
             ],
             [
              0.8888888888888888,
              "#fdca26"
             ],
             [
              1,
              "#f0f921"
             ]
            ],
            "type": "heatmapgl"
           }
          ],
          "histogram": [
           {
            "marker": {
             "pattern": {
              "fillmode": "overlay",
              "size": 10,
              "solidity": 0.2
             }
            },
            "type": "histogram"
           }
          ],
          "histogram2d": [
           {
            "colorbar": {
             "outlinewidth": 0,
             "ticks": ""
            },
            "colorscale": [
             [
              0,
              "#0d0887"
             ],
             [
              0.1111111111111111,
              "#46039f"
             ],
             [
              0.2222222222222222,
              "#7201a8"
             ],
             [
              0.3333333333333333,
              "#9c179e"
             ],
             [
              0.4444444444444444,
              "#bd3786"
             ],
             [
              0.5555555555555556,
              "#d8576b"
             ],
             [
              0.6666666666666666,
              "#ed7953"
             ],
             [
              0.7777777777777778,
              "#fb9f3a"
             ],
             [
              0.8888888888888888,
              "#fdca26"
             ],
             [
              1,
              "#f0f921"
             ]
            ],
            "type": "histogram2d"
           }
          ],
          "histogram2dcontour": [
           {
            "colorbar": {
             "outlinewidth": 0,
             "ticks": ""
            },
            "colorscale": [
             [
              0,
              "#0d0887"
             ],
             [
              0.1111111111111111,
              "#46039f"
             ],
             [
              0.2222222222222222,
              "#7201a8"
             ],
             [
              0.3333333333333333,
              "#9c179e"
             ],
             [
              0.4444444444444444,
              "#bd3786"
             ],
             [
              0.5555555555555556,
              "#d8576b"
             ],
             [
              0.6666666666666666,
              "#ed7953"
             ],
             [
              0.7777777777777778,
              "#fb9f3a"
             ],
             [
              0.8888888888888888,
              "#fdca26"
             ],
             [
              1,
              "#f0f921"
             ]
            ],
            "type": "histogram2dcontour"
           }
          ],
          "mesh3d": [
           {
            "colorbar": {
             "outlinewidth": 0,
             "ticks": ""
            },
            "type": "mesh3d"
           }
          ],
          "parcoords": [
           {
            "line": {
             "colorbar": {
              "outlinewidth": 0,
              "ticks": ""
             }
            },
            "type": "parcoords"
           }
          ],
          "pie": [
           {
            "automargin": true,
            "type": "pie"
           }
          ],
          "scatter": [
           {
            "fillpattern": {
             "fillmode": "overlay",
             "size": 10,
             "solidity": 0.2
            },
            "type": "scatter"
           }
          ],
          "scatter3d": [
           {
            "line": {
             "colorbar": {
              "outlinewidth": 0,
              "ticks": ""
             }
            },
            "marker": {
             "colorbar": {
              "outlinewidth": 0,
              "ticks": ""
             }
            },
            "type": "scatter3d"
           }
          ],
          "scattercarpet": [
           {
            "marker": {
             "colorbar": {
              "outlinewidth": 0,
              "ticks": ""
             }
            },
            "type": "scattercarpet"
           }
          ],
          "scattergeo": [
           {
            "marker": {
             "colorbar": {
              "outlinewidth": 0,
              "ticks": ""
             }
            },
            "type": "scattergeo"
           }
          ],
          "scattergl": [
           {
            "marker": {
             "colorbar": {
              "outlinewidth": 0,
              "ticks": ""
             }
            },
            "type": "scattergl"
           }
          ],
          "scattermapbox": [
           {
            "marker": {
             "colorbar": {
              "outlinewidth": 0,
              "ticks": ""
             }
            },
            "type": "scattermapbox"
           }
          ],
          "scatterpolar": [
           {
            "marker": {
             "colorbar": {
              "outlinewidth": 0,
              "ticks": ""
             }
            },
            "type": "scatterpolar"
           }
          ],
          "scatterpolargl": [
           {
            "marker": {
             "colorbar": {
              "outlinewidth": 0,
              "ticks": ""
             }
            },
            "type": "scatterpolargl"
           }
          ],
          "scatterternary": [
           {
            "marker": {
             "colorbar": {
              "outlinewidth": 0,
              "ticks": ""
             }
            },
            "type": "scatterternary"
           }
          ],
          "surface": [
           {
            "colorbar": {
             "outlinewidth": 0,
             "ticks": ""
            },
            "colorscale": [
             [
              0,
              "#0d0887"
             ],
             [
              0.1111111111111111,
              "#46039f"
             ],
             [
              0.2222222222222222,
              "#7201a8"
             ],
             [
              0.3333333333333333,
              "#9c179e"
             ],
             [
              0.4444444444444444,
              "#bd3786"
             ],
             [
              0.5555555555555556,
              "#d8576b"
             ],
             [
              0.6666666666666666,
              "#ed7953"
             ],
             [
              0.7777777777777778,
              "#fb9f3a"
             ],
             [
              0.8888888888888888,
              "#fdca26"
             ],
             [
              1,
              "#f0f921"
             ]
            ],
            "type": "surface"
           }
          ],
          "table": [
           {
            "cells": {
             "fill": {
              "color": "#EBF0F8"
             },
             "line": {
              "color": "white"
             }
            },
            "header": {
             "fill": {
              "color": "#C8D4E3"
             },
             "line": {
              "color": "white"
             }
            },
            "type": "table"
           }
          ]
         },
         "layout": {
          "annotationdefaults": {
           "arrowcolor": "#2a3f5f",
           "arrowhead": 0,
           "arrowwidth": 1
          },
          "autotypenumbers": "strict",
          "coloraxis": {
           "colorbar": {
            "outlinewidth": 0,
            "ticks": ""
           }
          },
          "colorscale": {
           "diverging": [
            [
             0,
             "#8e0152"
            ],
            [
             0.1,
             "#c51b7d"
            ],
            [
             0.2,
             "#de77ae"
            ],
            [
             0.3,
             "#f1b6da"
            ],
            [
             0.4,
             "#fde0ef"
            ],
            [
             0.5,
             "#f7f7f7"
            ],
            [
             0.6,
             "#e6f5d0"
            ],
            [
             0.7,
             "#b8e186"
            ],
            [
             0.8,
             "#7fbc41"
            ],
            [
             0.9,
             "#4d9221"
            ],
            [
             1,
             "#276419"
            ]
           ],
           "sequential": [
            [
             0,
             "#0d0887"
            ],
            [
             0.1111111111111111,
             "#46039f"
            ],
            [
             0.2222222222222222,
             "#7201a8"
            ],
            [
             0.3333333333333333,
             "#9c179e"
            ],
            [
             0.4444444444444444,
             "#bd3786"
            ],
            [
             0.5555555555555556,
             "#d8576b"
            ],
            [
             0.6666666666666666,
             "#ed7953"
            ],
            [
             0.7777777777777778,
             "#fb9f3a"
            ],
            [
             0.8888888888888888,
             "#fdca26"
            ],
            [
             1,
             "#f0f921"
            ]
           ],
           "sequentialminus": [
            [
             0,
             "#0d0887"
            ],
            [
             0.1111111111111111,
             "#46039f"
            ],
            [
             0.2222222222222222,
             "#7201a8"
            ],
            [
             0.3333333333333333,
             "#9c179e"
            ],
            [
             0.4444444444444444,
             "#bd3786"
            ],
            [
             0.5555555555555556,
             "#d8576b"
            ],
            [
             0.6666666666666666,
             "#ed7953"
            ],
            [
             0.7777777777777778,
             "#fb9f3a"
            ],
            [
             0.8888888888888888,
             "#fdca26"
            ],
            [
             1,
             "#f0f921"
            ]
           ]
          },
          "colorway": [
           "#636efa",
           "#EF553B",
           "#00cc96",
           "#ab63fa",
           "#FFA15A",
           "#19d3f3",
           "#FF6692",
           "#B6E880",
           "#FF97FF",
           "#FECB52"
          ],
          "font": {
           "color": "#2a3f5f"
          },
          "geo": {
           "bgcolor": "white",
           "lakecolor": "white",
           "landcolor": "#E5ECF6",
           "showlakes": true,
           "showland": true,
           "subunitcolor": "white"
          },
          "hoverlabel": {
           "align": "left"
          },
          "hovermode": "closest",
          "mapbox": {
           "style": "light"
          },
          "paper_bgcolor": "white",
          "plot_bgcolor": "#E5ECF6",
          "polar": {
           "angularaxis": {
            "gridcolor": "white",
            "linecolor": "white",
            "ticks": ""
           },
           "bgcolor": "#E5ECF6",
           "radialaxis": {
            "gridcolor": "white",
            "linecolor": "white",
            "ticks": ""
           }
          },
          "scene": {
           "xaxis": {
            "backgroundcolor": "#E5ECF6",
            "gridcolor": "white",
            "gridwidth": 2,
            "linecolor": "white",
            "showbackground": true,
            "ticks": "",
            "zerolinecolor": "white"
           },
           "yaxis": {
            "backgroundcolor": "#E5ECF6",
            "gridcolor": "white",
            "gridwidth": 2,
            "linecolor": "white",
            "showbackground": true,
            "ticks": "",
            "zerolinecolor": "white"
           },
           "zaxis": {
            "backgroundcolor": "#E5ECF6",
            "gridcolor": "white",
            "gridwidth": 2,
            "linecolor": "white",
            "showbackground": true,
            "ticks": "",
            "zerolinecolor": "white"
           }
          },
          "shapedefaults": {
           "line": {
            "color": "#2a3f5f"
           }
          },
          "ternary": {
           "aaxis": {
            "gridcolor": "white",
            "linecolor": "white",
            "ticks": ""
           },
           "baxis": {
            "gridcolor": "white",
            "linecolor": "white",
            "ticks": ""
           },
           "bgcolor": "#E5ECF6",
           "caxis": {
            "gridcolor": "white",
            "linecolor": "white",
            "ticks": ""
           }
          },
          "title": {
           "x": 0.05
          },
          "xaxis": {
           "automargin": true,
           "gridcolor": "white",
           "linecolor": "white",
           "ticks": "",
           "title": {
            "standoff": 15
           },
           "zerolinecolor": "white",
           "zerolinewidth": 2
          },
          "yaxis": {
           "automargin": true,
           "gridcolor": "white",
           "linecolor": "white",
           "ticks": "",
           "title": {
            "standoff": 15
           },
           "zerolinecolor": "white",
           "zerolinewidth": 2
          }
         }
        },
        "width": 900,
        "xaxis": {
         "title": {
          "text": "Return"
         }
        },
        "yaxis": {
         "title": {
          "text": "Standard Deviation"
         }
        }
       }
      }
     },
     "metadata": {},
     "output_type": "display_data"
    }
   ],
   "source": [
    "fig=go.Figure()\n",
    "fig.add_trace(go.Scatter(name='Risk-Return Relationship',\n",
    "x=portfolio[:,0],\n",
    "y=portfolio[:,1], mode='markers'))\n",
    "fig.add_trace(go.Scatter(name='Best Fit Line',\n",
    "x=portfolio[:,0],\n",
    "y=best_fit, mode='lines'))\n",
    "fig.update_layout(xaxis_title='Return',\n",
    "yaxis_title='Standard Deviation',\n",
    "width=900, height=470)\n",
    "fig.show()"
   ]
  },
  {
   "cell_type": "code",
   "execution_count": 16,
   "metadata": {},
   "outputs": [],
   "source": [
    "import matplotlib.pyplot as plt\n",
    "import numpy as np\n",
    "plt.style.use('seaborn')\n"
   ]
  },
  {
   "cell_type": "code",
   "execution_count": 17,
   "metadata": {},
   "outputs": [],
   "source": [
    "def utility(x):\n",
    "    return(np.exp(x**gamma))"
   ]
  },
  {
   "cell_type": "code",
   "execution_count": 18,
   "metadata": {},
   "outputs": [],
   "source": [
    "pi=np.random.uniform(0,1,20)\n",
    "pi=np.sort(pi)"
   ]
  },
  {
   "cell_type": "code",
   "execution_count": 19,
   "metadata": {},
   "outputs": [
    {
     "name": "stdout",
     "output_type": "stream",
     "text": [
      "The highest three probability of losses ar [0.9613607  0.96531056 0.99142351]\n"
     ]
    }
   ],
   "source": [
    "print('The highest three probability of losses ar {}'\n",
    ".format(pi[-3:]))\n"
   ]
  },
  {
   "cell_type": "code",
   "execution_count": 20,
   "metadata": {},
   "outputs": [],
   "source": [
    "y=2\n",
    "c=1.5\n",
    "Q=5\n",
    "D=0.01\n",
    "gamma=0.4"
   ]
  },
  {
   "cell_type": "code",
   "execution_count": 21,
   "metadata": {},
   "outputs": [],
   "source": [
    "def supply(Q):\n",
    "    return(np.mean(pi[-Q:])*c)"
   ]
  },
  {
   "cell_type": "code",
   "execution_count": 22,
   "metadata": {},
   "outputs": [],
   "source": [
    "def demand(D):\n",
    "    return(np.sum(utility(y-D)>pi*utility(y-c)+(1-pi)*utility(y)))"
   ]
  },
  {
   "cell_type": "code",
   "execution_count": 23,
   "metadata": {},
   "outputs": [
    {
     "data": {
      "image/png": "[encoded data removed]",
      "text/plain": [
       "<Figure size 800x550 with 1 Axes>"
      ]
     },
     "metadata": {},
     "output_type": "display_data"
    }
   ],
   "source": [
    "plt.figure()\n",
    "plt.plot([demand(i) for i in np.arange(0,1.9,0.02)],\n",
    "np.arange(0,1.9,0.02),\n",
    "'r', label='insurance demand')\n",
    "plt.plot(range(1,21),[supply(j)for j in range(1,21)],\n",
    "'g', label='insurance supply')\n",
    "plt.ylabel('Average Cost')\n",
    "plt.xlabel('Number of People')\n",
    "plt.legend()\n",
    "plt.show()"
   ]
  },
  {
   "cell_type": "code",
   "execution_count": null,
   "metadata": {},
   "outputs": [],
   "source": []
  }
 ],
 "metadata": {
  "kernelspec": {
   "display_name": "Python 3",
   "language": "python",
   "name": "python3"
  },
  "language_info": {
   "codemirror_mode": {
    "name": "ipython",
    "version": 3
   },
   "file_extension": ".py",
   "mimetype": "text/x-python",
   "name": "python",
   "nbconvert_exporter": "python",
   "pygments_lexer": "ipython3",
   "version": "3.10.10"
  },
  "orig_nbformat": 4
 },
 "nbformat": 4,
 "nbformat_minor": 2
}
