{
 "cells": [
  {
   "cell_type": "code",
   "execution_count": 1,
   "metadata": {},
   "outputs": [],
   "source": [
    "from sklearn.datasets import fetch_california_housing\n",
    "import pandas as pd\n",
    "import numpy as np\n",
    "import matplotlib. pyplot as plt\n",
    "import yfinance as yf\n",
    "import datetime\n",
    "import warnings\n",
    "warnings.filterwarnings('ignore')"
   ]
  },
  {
   "cell_type": "code",
   "execution_count": 2,
   "metadata": {},
   "outputs": [
    {
     "name": "stdout",
     "output_type": "stream",
     "text": [
      "C:\\Users\\yim\\scikit_learn_data\n"
     ]
    }
   ],
   "source": [
    "from sklearn.datasets import get_data_home\n",
    "print(get_data_home())\n"
   ]
  },
  {
   "cell_type": "code",
   "execution_count": 3,
   "metadata": {},
   "outputs": [],
   "source": [
    "X, y=fetch_california_housing(return_X_y=True)\n"
   ]
  },
  {
   "cell_type": "code",
   "execution_count": 4,
   "metadata": {},
   "outputs": [],
   "source": [
    "import numpy as np \n",
    "california_housing=np.column_stack([X,y])\n",
    "california_housing_df=pd.DataFrame(california_housing)\n"
   ]
  },
  {
   "cell_type": "code",
   "execution_count": 15,
   "metadata": {},
   "outputs": [
    {
     "name": "stdout",
     "output_type": "stream",
     "text": [
      "Collecting ctgan==0.7.0\n",
      "  Downloading ctgan-0.7.0-py2.py3-none-any.whl (25 kB)\n",
      "Requirement already satisfied: torch<2,>=1.11.0 in c:\\users\\yim\\anaconda3\\envs\\myenv\\lib\\site-packages (from ctgan==0.7.0) (1.13.1)\n",
      "Requirement already satisfied: scikit-learn<2,>=1.1.3 in c:\\users\\yim\\anaconda3\\envs\\myenv\\lib\\site-packages (from ctgan==0.7.0) (1.2.2)\n",
      "Requirement already satisfied: packaging<22,>=20 in c:\\users\\yim\\anaconda3\\envs\\myenv\\lib\\site-packages (from ctgan==0.7.0) (21.3)\n",
      "Requirement already satisfied: pandas<2,>=1.3.4 in c:\\users\\yim\\anaconda3\\envs\\myenv\\lib\\site-packages (from ctgan==0.7.0) (1.5.3)\n",
      "Requirement already satisfied: rdt<2.0,>=1.3.0 in c:\\users\\yim\\anaconda3\\envs\\myenv\\lib\\site-packages (from ctgan==0.7.0) (1.3.0)\n",
      "Requirement already satisfied: numpy<2,>=1.23.3 in c:\\users\\yim\\anaconda3\\envs\\myenv\\lib\\site-packages (from ctgan==0.7.0) (1.23.5)\n",
      "Requirement already satisfied: pyparsing!=3.0.5,>=2.0.2 in c:\\users\\yim\\anaconda3\\envs\\myenv\\lib\\site-packages (from packaging<22,>=20->ctgan==0.7.0) (3.0.9)\n",
      "Requirement already satisfied: python-dateutil>=2.8.1 in c:\\users\\yim\\appdata\\roaming\\python\\python310\\site-packages (from pandas<2,>=1.3.4->ctgan==0.7.0) (2.8.2)\n",
      "Requirement already satisfied: pytz>=2020.1 in c:\\users\\yim\\anaconda3\\envs\\myenv\\lib\\site-packages (from pandas<2,>=1.3.4->ctgan==0.7.0) (2023.3)\n",
      "Requirement already satisfied: Faker>=10 in c:\\users\\yim\\anaconda3\\envs\\myenv\\lib\\site-packages (from rdt<2.0,>=1.3.0->ctgan==0.7.0) (18.3.2)\n",
      "Requirement already satisfied: scipy<2,>=1.9.2 in c:\\users\\yim\\appdata\\roaming\\python\\python310\\site-packages (from rdt<2.0,>=1.3.0->ctgan==0.7.0) (1.10.1)\n",
      "Requirement already satisfied: psutil<6,>=5.7 in c:\\users\\yim\\appdata\\roaming\\python\\python310\\site-packages (from rdt<2.0,>=1.3.0->ctgan==0.7.0) (5.9.4)\n",
      "Requirement already satisfied: joblib>=1.1.1 in c:\\users\\yim\\anaconda3\\envs\\myenv\\lib\\site-packages (from scikit-learn<2,>=1.1.3->ctgan==0.7.0) (1.1.1)\n",
      "Requirement already satisfied: threadpoolctl>=2.0.0 in c:\\users\\yim\\anaconda3\\envs\\myenv\\lib\\site-packages (from scikit-learn<2,>=1.1.3->ctgan==0.7.0) (2.2.0)\n",
      "Requirement already satisfied: typing-extensions in c:\\users\\yim\\anaconda3\\envs\\myenv\\lib\\site-packages (from torch<2,>=1.11.0->ctgan==0.7.0) (4.5.0)\n",
      "Requirement already satisfied: six>=1.5 in c:\\users\\yim\\appdata\\roaming\\python\\python310\\site-packages (from python-dateutil>=2.8.1->pandas<2,>=1.3.4->ctgan==0.7.0) (1.16.0)\n",
      "Installing collected packages: ctgan\n",
      "  Attempting uninstall: ctgan\n",
      "    Found existing installation: ctgan 0.7.1\n",
      "    Uninstalling ctgan-0.7.1:\n",
      "      Successfully uninstalled ctgan-0.7.1\n",
      "Successfully installed ctgan-0.7.0\n",
      "Note: you may need to restart the kernel to use updated packages.\n"
     ]
    }
   ],
   "source": [
    "%pip install ctgan==0.7.0\n",
    "\n"
   ]
  },
  {
   "cell_type": "code",
   "execution_count": 6,
   "metadata": {},
   "outputs": [
    {
     "ename": "ImportError",
     "evalue": "cannot import name 'CTGANSynthesizer' from 'ctgan' (c:\\Users\\yim\\anaconda3\\envs\\myenv\\lib\\site-packages\\ctgan\\__init__.py)",
     "output_type": "error",
     "traceback": [
      "\u001b[1;31m---------------------------------------------------------------------------\u001b[0m",
      "\u001b[1;31mImportError\u001b[0m                               Traceback (most recent call last)",
      "Cell \u001b[1;32mIn[6], line 1\u001b[0m\n\u001b[1;32m----> 1\u001b[0m \u001b[39mfrom\u001b[39;00m \u001b[39mctgan\u001b[39;00m \u001b[39mimport\u001b[39;00m CTGANSynthesizer\n",
      "\u001b[1;31mImportError\u001b[0m: cannot import name 'CTGANSynthesizer' from 'ctgan' (c:\\Users\\yim\\anaconda3\\envs\\myenv\\lib\\site-packages\\ctgan\\__init__.py)"
     ]
    }
   ],
   "source": [
    "from ctgan import CTGANSynthesizer"
   ]
  },
  {
   "cell_type": "code",
   "execution_count": null,
   "metadata": {},
   "outputs": [],
   "source": []
  }
 ],
 "metadata": {
  "kernelspec": {
   "display_name": "Python 3",
   "language": "python",
   "name": "python3"
  },
  "language_info": {
   "codemirror_mode": {
    "name": "ipython",
    "version": 3
   },
   "file_extension": ".py",
   "mimetype": "text/x-python",
   "name": "python",
   "nbconvert_exporter": "python",
   "pygments_lexer": "ipython3",
   "version": "3.10.10"
  },
  "orig_nbformat": 4
 },
 "nbformat": 4,
 "nbformat_minor": 2
}
