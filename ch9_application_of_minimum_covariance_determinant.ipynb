{
  "nbformat": 4,
  "nbformat_minor": 0,
  "metadata": {
    "colab": {
      "provenance": []
    },
    "kernelspec": {
      "name": "python3",
      "display_name": "Python 3"
    },
    "language_info": {
      "name": "python"
    },
    "accelerator": "GPU",
    "gpuClass": "standard"
  },
  "cells": [
    {
      "cell_type": "code",
      "execution_count": 243,
      "metadata": {
        "id": "tGyDXpVJdWI4"
      },
      "outputs": [],
      "source": [
        "import pandas as pd\n",
        "import matplotlib.pyplot as plt\n",
        "import numpy as np\n",
        "import seaborn as sns; sns.set()\n",
        "pd.set_option('use_inf_as_na', True)\n",
        "import warnings\n",
        "warnings.filterwarnings('ignore')"
      ]
    },
    {
      "cell_type": "code",
      "source": [
        "crash_data=pd.read_csv('/content/crash_data.csv')"
      ],
      "metadata": {
        "id": "MuAFBD5Qdsaj"
      },
      "execution_count": 244,
      "outputs": []
    },
    {
      "cell_type": "code",
      "source": [
        "crash_data.head()"
      ],
      "metadata": {
        "colab": {
          "base_uri": "https://localhost:8080/",
          "height": 206
        },
        "id": "NL0Ok901rZaf",
        "outputId": "7fa94ae8-c46f-440c-e99e-c2cc00a26de4"
      },
      "execution_count": 245,
      "outputs": [
        {
          "output_type": "execute_result",
          "data": {
            "text/plain": [
              "   Unnamed: 0       RET      date TICKER    vwretx  BIDLO   ASKHI    PRC  \\\n",
              "0    27882462  0.041833  20100104    BAC  0.017045  15.12  15.750  15.69   \n",
              "1    27882463  0.032505  20100105    BAC  0.003362  15.70  16.210  16.20   \n",
              "2    27882464  0.011728  20100106    BAC  0.001769  16.03  16.540  16.39   \n",
              "3    27882465  0.032947  20100107    BAC  0.002821  16.51  17.185  16.93   \n",
              "4    27882466 -0.008860  20100108    BAC  0.004161  16.63  17.100  16.78   \n",
              "\n",
              "           VOL  \n",
              "0  180845100.0  \n",
              "1  209521200.0  \n",
              "2  205257900.0  \n",
              "3  320868400.0  \n",
              "4  220104600.0  "
            ],
            "text/html": [
              "\n",
              "  <div id=\"df-8762c247-2f12-4f93-bc2d-9416f60c4ee7\">\n",
              "    <div class=\"colab-df-container\">\n",
              "      <div>\n",
              "<style scoped>\n",
              "    .dataframe tbody tr th:only-of-type {\n",
              "        vertical-align: middle;\n",
              "    }\n",
              "\n",
              "    .dataframe tbody tr th {\n",
              "        vertical-align: top;\n",
              "    }\n",
              "\n",
              "    .dataframe thead th {\n",
              "        text-align: right;\n",
              "    }\n",
              "</style>\n",
              "<table border=\"1\" class=\"dataframe\">\n",
              "  <thead>\n",
              "    <tr style=\"text-align: right;\">\n",
              "      <th></th>\n",
              "      <th>Unnamed: 0</th>\n",
              "      <th>RET</th>\n",
              "      <th>date</th>\n",
              "      <th>TICKER</th>\n",
              "      <th>vwretx</th>\n",
              "      <th>BIDLO</th>\n",
              "      <th>ASKHI</th>\n",
              "      <th>PRC</th>\n",
              "      <th>VOL</th>\n",
              "    </tr>\n",
              "  </thead>\n",
              "  <tbody>\n",
              "    <tr>\n",
              "      <th>0</th>\n",
              "      <td>27882462</td>\n",
              "      <td>0.041833</td>\n",
              "      <td>20100104</td>\n",
              "      <td>BAC</td>\n",
              "      <td>0.017045</td>\n",
              "      <td>15.12</td>\n",
              "      <td>15.750</td>\n",
              "      <td>15.69</td>\n",
              "      <td>180845100.0</td>\n",
              "    </tr>\n",
              "    <tr>\n",
              "      <th>1</th>\n",
              "      <td>27882463</td>\n",
              "      <td>0.032505</td>\n",
              "      <td>20100105</td>\n",
              "      <td>BAC</td>\n",
              "      <td>0.003362</td>\n",
              "      <td>15.70</td>\n",
              "      <td>16.210</td>\n",
              "      <td>16.20</td>\n",
              "      <td>209521200.0</td>\n",
              "    </tr>\n",
              "    <tr>\n",
              "      <th>2</th>\n",
              "      <td>27882464</td>\n",
              "      <td>0.011728</td>\n",
              "      <td>20100106</td>\n",
              "      <td>BAC</td>\n",
              "      <td>0.001769</td>\n",
              "      <td>16.03</td>\n",
              "      <td>16.540</td>\n",
              "      <td>16.39</td>\n",
              "      <td>205257900.0</td>\n",
              "    </tr>\n",
              "    <tr>\n",
              "      <th>3</th>\n",
              "      <td>27882465</td>\n",
              "      <td>0.032947</td>\n",
              "      <td>20100107</td>\n",
              "      <td>BAC</td>\n",
              "      <td>0.002821</td>\n",
              "      <td>16.51</td>\n",
              "      <td>17.185</td>\n",
              "      <td>16.93</td>\n",
              "      <td>320868400.0</td>\n",
              "    </tr>\n",
              "    <tr>\n",
              "      <th>4</th>\n",
              "      <td>27882466</td>\n",
              "      <td>-0.008860</td>\n",
              "      <td>20100108</td>\n",
              "      <td>BAC</td>\n",
              "      <td>0.004161</td>\n",
              "      <td>16.63</td>\n",
              "      <td>17.100</td>\n",
              "      <td>16.78</td>\n",
              "      <td>220104600.0</td>\n",
              "    </tr>\n",
              "  </tbody>\n",
              "</table>\n",
              "</div>\n",
              "      <button class=\"colab-df-convert\" onclick=\"convertToInteractive('df-8762c247-2f12-4f93-bc2d-9416f60c4ee7')\"\n",
              "              title=\"Convert this dataframe to an interactive table.\"\n",
              "              style=\"display:none;\">\n",
              "        \n",
              "  <svg xmlns=\"http://www.w3.org/2000/svg\" height=\"24px\"viewBox=\"0 0 24 24\"\n",
              "       width=\"24px\">\n",
              "    <path d=\"M0 0h24v24H0V0z\" fill=\"none\"/>\n",
              "    <path d=\"M18.56 5.44l.94 2.06.94-2.06 2.06-.94-2.06-.94-.94-2.06-.94 2.06-2.06.94zm-11 1L8.5 8.5l.94-2.06 2.06-.94-2.06-.94L8.5 2.5l-.94 2.06-2.06.94zm10 10l.94 2.06.94-2.06 2.06-.94-2.06-.94-.94-2.06-.94 2.06-2.06.94z\"/><path d=\"M17.41 7.96l-1.37-1.37c-.4-.4-.92-.59-1.43-.59-.52 0-1.04.2-1.43.59L10.3 9.45l-7.72 7.72c-.78.78-.78 2.05 0 2.83L4 21.41c.39.39.9.59 1.41.59.51 0 1.02-.2 1.41-.59l7.78-7.78 2.81-2.81c.8-.78.8-2.07 0-2.86zM5.41 20L4 18.59l7.72-7.72 1.47 1.35L5.41 20z\"/>\n",
              "  </svg>\n",
              "      </button>\n",
              "      \n",
              "  <style>\n",
              "    .colab-df-container {\n",
              "      display:flex;\n",
              "      flex-wrap:wrap;\n",
              "      gap: 12px;\n",
              "    }\n",
              "\n",
              "    .colab-df-convert {\n",
              "      background-color: #E8F0FE;\n",
              "      border: none;\n",
              "      border-radius: 50%;\n",
              "      cursor: pointer;\n",
              "      display: none;\n",
              "      fill: #1967D2;\n",
              "      height: 32px;\n",
              "      padding: 0 0 0 0;\n",
              "      width: 32px;\n",
              "    }\n",
              "\n",
              "    .colab-df-convert:hover {\n",
              "      background-color: #E2EBFA;\n",
              "      box-shadow: 0px 1px 2px rgba(60, 64, 67, 0.3), 0px 1px 3px 1px rgba(60, 64, 67, 0.15);\n",
              "      fill: #174EA6;\n",
              "    }\n",
              "\n",
              "    [theme=dark] .colab-df-convert {\n",
              "      background-color: #3B4455;\n",
              "      fill: #D2E3FC;\n",
              "    }\n",
              "\n",
              "    [theme=dark] .colab-df-convert:hover {\n",
              "      background-color: #434B5C;\n",
              "      box-shadow: 0px 1px 3px 1px rgba(0, 0, 0, 0.15);\n",
              "      filter: drop-shadow(0px 1px 2px rgba(0, 0, 0, 0.3));\n",
              "      fill: #FFFFFF;\n",
              "    }\n",
              "  </style>\n",
              "\n",
              "      <script>\n",
              "        const buttonEl =\n",
              "          document.querySelector('#df-8762c247-2f12-4f93-bc2d-9416f60c4ee7 button.colab-df-convert');\n",
              "        buttonEl.style.display =\n",
              "          google.colab.kernel.accessAllowed ? 'block' : 'none';\n",
              "\n",
              "        async function convertToInteractive(key) {\n",
              "          const element = document.querySelector('#df-8762c247-2f12-4f93-bc2d-9416f60c4ee7');\n",
              "          const dataTable =\n",
              "            await google.colab.kernel.invokeFunction('convertToInteractive',\n",
              "                                                     [key], {});\n",
              "          if (!dataTable) return;\n",
              "\n",
              "          const docLinkHtml = 'Like what you see? Visit the ' +\n",
              "            '<a target=\"_blank\" href=https://colab.research.google.com/notebooks/data_table.ipynb>data table notebook</a>'\n",
              "            + ' to learn more about interactive tables.';\n",
              "          element.innerHTML = '';\n",
              "          dataTable['output_type'] = 'display_data';\n",
              "          await google.colab.output.renderOutput(dataTable, element);\n",
              "          const docLink = document.createElement('div');\n",
              "          docLink.innerHTML = docLinkHtml;\n",
              "          element.appendChild(docLink);\n",
              "        }\n",
              "      </script>\n",
              "    </div>\n",
              "  </div>\n",
              "  "
            ]
          },
          "metadata": {},
          "execution_count": 245
        }
      ]
    },
    {
      "cell_type": "code",
      "source": [
        "crash_data.date=pd.to_datetime(crash_data.date, format='%Y%m%d')\n",
        "crash_data=crash_data.set_index('date')"
      ],
      "metadata": {
        "id": "CT8bpBqOreFF"
      },
      "execution_count": 246,
      "outputs": []
    },
    {
      "cell_type": "code",
      "source": [
        "crash_dataw=crash_data.groupby('TICKER').resample('W').\\\n",
        "agg({'RET':'mean', 'vwretx':'mean', 'VOL':'mean',\n",
        "     'BIDLO':'mean', 'ASKHI':'mean', 'PRC':'mean'})"
      ],
      "metadata": {
        "id": "Q0DiwbPQrp_t"
      },
      "execution_count": 247,
      "outputs": []
    },
    {
      "cell_type": "code",
      "source": [
        "crash_dataw=crash_dataw.reset_index()\n",
        "crash_dataw.dropna(inplace=True)\n",
        "stocks=crash_dataw.TICKER.unique()"
      ],
      "metadata": {
        "id": "pVkyvgNnsDec"
      },
      "execution_count": 248,
      "outputs": []
    },
    {
      "cell_type": "code",
      "source": [
        "plt.figure(figsize=(12,8))\n",
        "k=1\n",
        "\n",
        "for i in stocks[:4]:\n",
        "  plt.subplot(2,2,k)\n",
        "  plt.hist(crash_dataw[crash_dataw.TICKER==i]['RET'])\n",
        "  plt.title('Histogram of'+i)\n",
        "  k+=1\n",
        "plt.show()"
      ],
      "metadata": {
        "colab": {
          "base_uri": "https://localhost:8080/",
          "height": 501
        },
        "id": "dhPH4HF_sNX8",
        "outputId": "896cb71a-0d9d-4250-8d4c-7b659afef231"
      },
      "execution_count": 249,
      "outputs": [
        {
          "output_type": "display_data",
          "data": {
            "text/plain": [
              "<Figure size 864x576 with 4 Axes>"
            ],
            "image/png": "[encoded data removed]"
          },
          "metadata": {}
        }
      ]
    },
    {
      "cell_type": "code",
      "source": [
        "import statsmodels.api as sm\n",
        "residuals=[]\n",
        "\n",
        "for i in stocks:\n",
        "  Y=crash_dataw.loc[crash_dataw['TICKER']==i]['RET'].values\n",
        "  X=crash_dataw.loc[crash_dataw['TICKER']==i]['vwretx'].values\n",
        "  X=sm.add_constant(X)\n",
        "  ols=sm.OLS(Y[2:-2], X[2:-2]+X[1:-3]+X[0:-4]+\\\n",
        "             X[3:-1]+X[4:]).fit()\n",
        "  residuals.append(ols.resid)\n"
      ],
      "metadata": {
        "id": "umekuASTshAV"
      },
      "execution_count": 250,
      "outputs": []
    },
    {
      "cell_type": "code",
      "source": [
        "residuals=list(map(lambda x: np.log(1+x), residuals))\n"
      ],
      "metadata": {
        "id": "TW8utSM6tjkN"
      },
      "execution_count": 251,
      "outputs": []
    },
    {
      "cell_type": "code",
      "source": [
        "crash_data_sliced=pd.DataFrame([])\n",
        "for i in stocks:\n",
        "  crash_data_sliced=crash_data_sliced.\\\n",
        "  append(crash_dataw.loc[crash_dataw.TICKER==i]\n",
        "         [2:-2])\n",
        "crash_data_sliced.head()"
      ],
      "metadata": {
        "colab": {
          "base_uri": "https://localhost:8080/",
          "height": 206
        },
        "id": "4WF9ODCItplc",
        "outputId": "2636dd67-30b3-45b9-8ddb-1e4f26338f73"
      },
      "execution_count": 252,
      "outputs": [
        {
          "output_type": "execute_result",
          "data": {
            "text/plain": [
              "  TICKER       date       RET    vwretx          VOL       BIDLO       ASKHI  \\\n",
              "2   AAPL 2010-01-24 -0.009510 -0.009479  25930885.00  205.277505  212.888450   \n",
              "3   AAPL 2010-01-31 -0.005426 -0.003738  52020594.00  198.250202  207.338002   \n",
              "4   AAPL 2010-02-07  0.003722 -0.001463  26953208.40  192.304004  197.378002   \n",
              "5   AAPL 2010-02-14  0.005031  0.002970  19731018.60  194.513998  198.674002   \n",
              "6   AAPL 2010-02-21  0.001640  0.007700  16618997.25  201.102500  203.772500   \n",
              "\n",
              "          PRC  \n",
              "2  208.146752  \n",
              "3  201.650398  \n",
              "4  195.466002  \n",
              "5  196.895200  \n",
              "6  202.636995  "
            ],
            "text/html": [
              "\n",
              "  <div id=\"df-e80924b7-5538-4efc-8798-ea7ba7a58061\">\n",
              "    <div class=\"colab-df-container\">\n",
              "      <div>\n",
              "<style scoped>\n",
              "    .dataframe tbody tr th:only-of-type {\n",
              "        vertical-align: middle;\n",
              "    }\n",
              "\n",
              "    .dataframe tbody tr th {\n",
              "        vertical-align: top;\n",
              "    }\n",
              "\n",
              "    .dataframe thead th {\n",
              "        text-align: right;\n",
              "    }\n",
              "</style>\n",
              "<table border=\"1\" class=\"dataframe\">\n",
              "  <thead>\n",
              "    <tr style=\"text-align: right;\">\n",
              "      <th></th>\n",
              "      <th>TICKER</th>\n",
              "      <th>date</th>\n",
              "      <th>RET</th>\n",
              "      <th>vwretx</th>\n",
              "      <th>VOL</th>\n",
              "      <th>BIDLO</th>\n",
              "      <th>ASKHI</th>\n",
              "      <th>PRC</th>\n",
              "    </tr>\n",
              "  </thead>\n",
              "  <tbody>\n",
              "    <tr>\n",
              "      <th>2</th>\n",
              "      <td>AAPL</td>\n",
              "      <td>2010-01-24</td>\n",
              "      <td>-0.009510</td>\n",
              "      <td>-0.009479</td>\n",
              "      <td>25930885.00</td>\n",
              "      <td>205.277505</td>\n",
              "      <td>212.888450</td>\n",
              "      <td>208.146752</td>\n",
              "    </tr>\n",
              "    <tr>\n",
              "      <th>3</th>\n",
              "      <td>AAPL</td>\n",
              "      <td>2010-01-31</td>\n",
              "      <td>-0.005426</td>\n",
              "      <td>-0.003738</td>\n",
              "      <td>52020594.00</td>\n",
              "      <td>198.250202</td>\n",
              "      <td>207.338002</td>\n",
              "      <td>201.650398</td>\n",
              "    </tr>\n",
              "    <tr>\n",
              "      <th>4</th>\n",
              "      <td>AAPL</td>\n",
              "      <td>2010-02-07</td>\n",
              "      <td>0.003722</td>\n",
              "      <td>-0.001463</td>\n",
              "      <td>26953208.40</td>\n",
              "      <td>192.304004</td>\n",
              "      <td>197.378002</td>\n",
              "      <td>195.466002</td>\n",
              "    </tr>\n",
              "    <tr>\n",
              "      <th>5</th>\n",
              "      <td>AAPL</td>\n",
              "      <td>2010-02-14</td>\n",
              "      <td>0.005031</td>\n",
              "      <td>0.002970</td>\n",
              "      <td>19731018.60</td>\n",
              "      <td>194.513998</td>\n",
              "      <td>198.674002</td>\n",
              "      <td>196.895200</td>\n",
              "    </tr>\n",
              "    <tr>\n",
              "      <th>6</th>\n",
              "      <td>AAPL</td>\n",
              "      <td>2010-02-21</td>\n",
              "      <td>0.001640</td>\n",
              "      <td>0.007700</td>\n",
              "      <td>16618997.25</td>\n",
              "      <td>201.102500</td>\n",
              "      <td>203.772500</td>\n",
              "      <td>202.636995</td>\n",
              "    </tr>\n",
              "  </tbody>\n",
              "</table>\n",
              "</div>\n",
              "      <button class=\"colab-df-convert\" onclick=\"convertToInteractive('df-e80924b7-5538-4efc-8798-ea7ba7a58061')\"\n",
              "              title=\"Convert this dataframe to an interactive table.\"\n",
              "              style=\"display:none;\">\n",
              "        \n",
              "  <svg xmlns=\"http://www.w3.org/2000/svg\" height=\"24px\"viewBox=\"0 0 24 24\"\n",
              "       width=\"24px\">\n",
              "    <path d=\"M0 0h24v24H0V0z\" fill=\"none\"/>\n",
              "    <path d=\"M18.56 5.44l.94 2.06.94-2.06 2.06-.94-2.06-.94-.94-2.06-.94 2.06-2.06.94zm-11 1L8.5 8.5l.94-2.06 2.06-.94-2.06-.94L8.5 2.5l-.94 2.06-2.06.94zm10 10l.94 2.06.94-2.06 2.06-.94-2.06-.94-.94-2.06-.94 2.06-2.06.94z\"/><path d=\"M17.41 7.96l-1.37-1.37c-.4-.4-.92-.59-1.43-.59-.52 0-1.04.2-1.43.59L10.3 9.45l-7.72 7.72c-.78.78-.78 2.05 0 2.83L4 21.41c.39.39.9.59 1.41.59.51 0 1.02-.2 1.41-.59l7.78-7.78 2.81-2.81c.8-.78.8-2.07 0-2.86zM5.41 20L4 18.59l7.72-7.72 1.47 1.35L5.41 20z\"/>\n",
              "  </svg>\n",
              "      </button>\n",
              "      \n",
              "  <style>\n",
              "    .colab-df-container {\n",
              "      display:flex;\n",
              "      flex-wrap:wrap;\n",
              "      gap: 12px;\n",
              "    }\n",
              "\n",
              "    .colab-df-convert {\n",
              "      background-color: #E8F0FE;\n",
              "      border: none;\n",
              "      border-radius: 50%;\n",
              "      cursor: pointer;\n",
              "      display: none;\n",
              "      fill: #1967D2;\n",
              "      height: 32px;\n",
              "      padding: 0 0 0 0;\n",
              "      width: 32px;\n",
              "    }\n",
              "\n",
              "    .colab-df-convert:hover {\n",
              "      background-color: #E2EBFA;\n",
              "      box-shadow: 0px 1px 2px rgba(60, 64, 67, 0.3), 0px 1px 3px 1px rgba(60, 64, 67, 0.15);\n",
              "      fill: #174EA6;\n",
              "    }\n",
              "\n",
              "    [theme=dark] .colab-df-convert {\n",
              "      background-color: #3B4455;\n",
              "      fill: #D2E3FC;\n",
              "    }\n",
              "\n",
              "    [theme=dark] .colab-df-convert:hover {\n",
              "      background-color: #434B5C;\n",
              "      box-shadow: 0px 1px 3px 1px rgba(0, 0, 0, 0.15);\n",
              "      filter: drop-shadow(0px 1px 2px rgba(0, 0, 0, 0.3));\n",
              "      fill: #FFFFFF;\n",
              "    }\n",
              "  </style>\n",
              "\n",
              "      <script>\n",
              "        const buttonEl =\n",
              "          document.querySelector('#df-e80924b7-5538-4efc-8798-ea7ba7a58061 button.colab-df-convert');\n",
              "        buttonEl.style.display =\n",
              "          google.colab.kernel.accessAllowed ? 'block' : 'none';\n",
              "\n",
              "        async function convertToInteractive(key) {\n",
              "          const element = document.querySelector('#df-e80924b7-5538-4efc-8798-ea7ba7a58061');\n",
              "          const dataTable =\n",
              "            await google.colab.kernel.invokeFunction('convertToInteractive',\n",
              "                                                     [key], {});\n",
              "          if (!dataTable) return;\n",
              "\n",
              "          const docLinkHtml = 'Like what you see? Visit the ' +\n",
              "            '<a target=\"_blank\" href=https://colab.research.google.com/notebooks/data_table.ipynb>data table notebook</a>'\n",
              "            + ' to learn more about interactive tables.';\n",
              "          element.innerHTML = '';\n",
              "          dataTable['output_type'] = 'display_data';\n",
              "          await google.colab.output.renderOutput(dataTable, element);\n",
              "          const docLink = document.createElement('div');\n",
              "          docLink.innerHTML = docLinkHtml;\n",
              "          element.appendChild(docLink);\n",
              "        }\n",
              "      </script>\n",
              "    </div>\n",
              "  </div>\n",
              "  "
            ]
          },
          "metadata": {},
          "execution_count": 252
        }
      ]
    },
    {
      "cell_type": "code",
      "source": [
        "from sklearn.covariance import EllipticEnvelope\n",
        "envelope=EllipticEnvelope(contamination=0.02, support_fraction=1)\n",
        "ee_predictions={}\n",
        "\n",
        "for i, j in zip(range(len(stocks)), stocks):\n",
        "  envelope.fit(np.array(residuals[i]).reshape(-1,1))\n",
        "  ee_predictions[j]=envelope.predict(np.array(residuals[i])\n",
        "  .reshape(-1,1))"
      ],
      "metadata": {
        "id": "sH-PQlQvt3v0"
      },
      "execution_count": 253,
      "outputs": []
    },
    {
      "cell_type": "code",
      "source": [
        "transform=[]\n",
        "for i in stocks:\n",
        "  for j in range(len(ee_predictions[i])):\n",
        "    transform.append(np.where(ee_predictions[i][j]==1,0,-1))\n",
        "    "
      ],
      "metadata": {
        "id": "ygPXOQ2gugZN"
      },
      "execution_count": 254,
      "outputs": []
    },
    {
      "cell_type": "code",
      "source": [
        "crash_data_sliced=crash_data_sliced.reset_index()\n",
        "crash_data_sliced['residuals']=np.concatenate(residuals)\n",
        "crash_data_sliced['neg_outliers']=np.where((np.array(transform))\\\n",
        "                                           ==-1,1,0)\n",
        "crash_data_sliced.loc[(crash_data_sliced.neg_outliers==1)&\n",
        "                      (crash_data_sliced.residuals>0),\n",
        "                      'neg_outliers']=0"
      ],
      "metadata": {
        "id": "MatAxQtPu3-F"
      },
      "execution_count": 255,
      "outputs": []
    },
    {
      "cell_type": "code",
      "source": [
        "\n",
        "crash_data_sliced['neg_outliers'].value_counts()"
      ],
      "metadata": {
        "colab": {
          "base_uri": "https://localhost:8080/"
        },
        "id": "2n1BcJFKyj73",
        "outputId": "e29299cd-d7a9-43d1-b3da-f35cc5cbde64"
      },
      "execution_count": 256,
      "outputs": [
        {
          "output_type": "execute_result",
          "data": {
            "text/plain": [
              "0    13155\n",
              "1      131\n",
              "Name: neg_outliers, dtype: int64"
            ]
          },
          "metadata": {},
          "execution_count": 256
        }
      ]
    },
    {
      "cell_type": "code",
      "source": [
        "plt.figure(figsize=(12,8))\n",
        "k=1\n",
        "\n",
        "for i in stocks[8:12]:\n",
        "  plt.subplot(2,2,k)\n",
        "  crash_data_sliced['residuals'][crash_data_sliced.TICKER==i].hist(label='normal', bins=30, color='gray')\n",
        "  outliers=crash_data_sliced['residuals'][(crash_data_sliced.TICKER==i)&(crash_data_sliced.neg_outliers>0)]\n",
        "  outliers.hist(color='black', label='anomaly')\n",
        "  plt.title(i)\n",
        "  plt.legend()\n",
        "  k+=1\n",
        "plt.show()"
      ],
      "metadata": {
        "colab": {
          "base_uri": "https://localhost:8080/",
          "height": 501
        },
        "id": "7Tb8MO88vSnl",
        "outputId": "dc8c9d5b-bfec-4291-b3a3-9f23630fea2a"
      },
      "execution_count": 257,
      "outputs": [
        {
          "output_type": "display_data",
          "data": {
            "text/plain": [
              "<Figure size 864x576 with 4 Axes>"
            ],
            "image/png": "[encoded data removed]"
          },
          "metadata": {}
        }
      ]
    },
    {
      "cell_type": "code",
      "source": [
        "crash_data_sliced=crash_data_sliced.set_index('date')\n",
        "crash_data_sliced.index=pd.to_datetime(crash_data_sliced.index)"
      ],
      "metadata": {
        "id": "WtSaRgC0xSM7"
      },
      "execution_count": 258,
      "outputs": []
    },
    {
      "cell_type": "code",
      "source": [
        "std=crash_data.groupby('TICKER')['RET'].resample('W').std()\\\n",
        ".reset_index()\n",
        "crash_dataw['std']=pd.DataFrame(std['RET'])"
      ],
      "metadata": {
        "id": "51onjqgY0TOq"
      },
      "execution_count": 259,
      "outputs": []
    },
    {
      "cell_type": "code",
      "source": [
        "yearly_data = crash_data_sliced.groupby('TICKER')['residuals']\\\n",
        "                .resample('Y').agg(['mean', 'std'])\\\n",
        "                .reset_index()\n",
        "yearly_data.columns=['TICKER', 'date', 'mean', 'std']\n",
        "yearly_data.head()\n"
      ],
      "metadata": {
        "colab": {
          "base_uri": "https://localhost:8080/",
          "height": 206
        },
        "id": "VFHD9B5-09gr",
        "outputId": "e72bec6a-e5bf-4876-9676-4f966209b156"
      },
      "execution_count": 260,
      "outputs": [
        {
          "output_type": "execute_result",
          "data": {
            "text/plain": [
              "  TICKER       date      mean       std\n",
              "0   AAPL 2010-12-31  0.000686  0.008291\n",
              "1   AAPL 2011-12-31  0.000431  0.009088\n",
              "2   AAPL 2012-12-31 -0.000079  0.008056\n",
              "3   AAPL 2013-12-31 -0.001019  0.009096\n",
              "4   AAPL 2014-12-31  0.000468  0.006174"
            ],
            "text/html": [
              "\n",
              "  <div id=\"df-9fad4536-9264-4b4f-be7a-2431d586587c\">\n",
              "    <div class=\"colab-df-container\">\n",
              "      <div>\n",
              "<style scoped>\n",
              "    .dataframe tbody tr th:only-of-type {\n",
              "        vertical-align: middle;\n",
              "    }\n",
              "\n",
              "    .dataframe tbody tr th {\n",
              "        vertical-align: top;\n",
              "    }\n",
              "\n",
              "    .dataframe thead th {\n",
              "        text-align: right;\n",
              "    }\n",
              "</style>\n",
              "<table border=\"1\" class=\"dataframe\">\n",
              "  <thead>\n",
              "    <tr style=\"text-align: right;\">\n",
              "      <th></th>\n",
              "      <th>TICKER</th>\n",
              "      <th>date</th>\n",
              "      <th>mean</th>\n",
              "      <th>std</th>\n",
              "    </tr>\n",
              "  </thead>\n",
              "  <tbody>\n",
              "    <tr>\n",
              "      <th>0</th>\n",
              "      <td>AAPL</td>\n",
              "      <td>2010-12-31</td>\n",
              "      <td>0.000686</td>\n",
              "      <td>0.008291</td>\n",
              "    </tr>\n",
              "    <tr>\n",
              "      <th>1</th>\n",
              "      <td>AAPL</td>\n",
              "      <td>2011-12-31</td>\n",
              "      <td>0.000431</td>\n",
              "      <td>0.009088</td>\n",
              "    </tr>\n",
              "    <tr>\n",
              "      <th>2</th>\n",
              "      <td>AAPL</td>\n",
              "      <td>2012-12-31</td>\n",
              "      <td>-0.000079</td>\n",
              "      <td>0.008056</td>\n",
              "    </tr>\n",
              "    <tr>\n",
              "      <th>3</th>\n",
              "      <td>AAPL</td>\n",
              "      <td>2013-12-31</td>\n",
              "      <td>-0.001019</td>\n",
              "      <td>0.009096</td>\n",
              "    </tr>\n",
              "    <tr>\n",
              "      <th>4</th>\n",
              "      <td>AAPL</td>\n",
              "      <td>2014-12-31</td>\n",
              "      <td>0.000468</td>\n",
              "      <td>0.006174</td>\n",
              "    </tr>\n",
              "  </tbody>\n",
              "</table>\n",
              "</div>\n",
              "      <button class=\"colab-df-convert\" onclick=\"convertToInteractive('df-9fad4536-9264-4b4f-be7a-2431d586587c')\"\n",
              "              title=\"Convert this dataframe to an interactive table.\"\n",
              "              style=\"display:none;\">\n",
              "        \n",
              "  <svg xmlns=\"http://www.w3.org/2000/svg\" height=\"24px\"viewBox=\"0 0 24 24\"\n",
              "       width=\"24px\">\n",
              "    <path d=\"M0 0h24v24H0V0z\" fill=\"none\"/>\n",
              "    <path d=\"M18.56 5.44l.94 2.06.94-2.06 2.06-.94-2.06-.94-.94-2.06-.94 2.06-2.06.94zm-11 1L8.5 8.5l.94-2.06 2.06-.94-2.06-.94L8.5 2.5l-.94 2.06-2.06.94zm10 10l.94 2.06.94-2.06 2.06-.94-2.06-.94-.94-2.06-.94 2.06-2.06.94z\"/><path d=\"M17.41 7.96l-1.37-1.37c-.4-.4-.92-.59-1.43-.59-.52 0-1.04.2-1.43.59L10.3 9.45l-7.72 7.72c-.78.78-.78 2.05 0 2.83L4 21.41c.39.39.9.59 1.41.59.51 0 1.02-.2 1.41-.59l7.78-7.78 2.81-2.81c.8-.78.8-2.07 0-2.86zM5.41 20L4 18.59l7.72-7.72 1.47 1.35L5.41 20z\"/>\n",
              "  </svg>\n",
              "      </button>\n",
              "      \n",
              "  <style>\n",
              "    .colab-df-container {\n",
              "      display:flex;\n",
              "      flex-wrap:wrap;\n",
              "      gap: 12px;\n",
              "    }\n",
              "\n",
              "    .colab-df-convert {\n",
              "      background-color: #E8F0FE;\n",
              "      border: none;\n",
              "      border-radius: 50%;\n",
              "      cursor: pointer;\n",
              "      display: none;\n",
              "      fill: #1967D2;\n",
              "      height: 32px;\n",
              "      padding: 0 0 0 0;\n",
              "      width: 32px;\n",
              "    }\n",
              "\n",
              "    .colab-df-convert:hover {\n",
              "      background-color: #E2EBFA;\n",
              "      box-shadow: 0px 1px 2px rgba(60, 64, 67, 0.3), 0px 1px 3px 1px rgba(60, 64, 67, 0.15);\n",
              "      fill: #174EA6;\n",
              "    }\n",
              "\n",
              "    [theme=dark] .colab-df-convert {\n",
              "      background-color: #3B4455;\n",
              "      fill: #D2E3FC;\n",
              "    }\n",
              "\n",
              "    [theme=dark] .colab-df-convert:hover {\n",
              "      background-color: #434B5C;\n",
              "      box-shadow: 0px 1px 3px 1px rgba(0, 0, 0, 0.15);\n",
              "      filter: drop-shadow(0px 1px 2px rgba(0, 0, 0, 0.3));\n",
              "      fill: #FFFFFF;\n",
              "    }\n",
              "  </style>\n",
              "\n",
              "      <script>\n",
              "        const buttonEl =\n",
              "          document.querySelector('#df-9fad4536-9264-4b4f-be7a-2431d586587c button.colab-df-convert');\n",
              "        buttonEl.style.display =\n",
              "          google.colab.kernel.accessAllowed ? 'block' : 'none';\n",
              "\n",
              "        async function convertToInteractive(key) {\n",
              "          const element = document.querySelector('#df-9fad4536-9264-4b4f-be7a-2431d586587c');\n",
              "          const dataTable =\n",
              "            await google.colab.kernel.invokeFunction('convertToInteractive',\n",
              "                                                     [key], {});\n",
              "          if (!dataTable) return;\n",
              "\n",
              "          const docLinkHtml = 'Like what you see? Visit the ' +\n",
              "            '<a target=\"_blank\" href=https://colab.research.google.com/notebooks/data_table.ipynb>data table notebook</a>'\n",
              "            + ' to learn more about interactive tables.';\n",
              "          element.innerHTML = '';\n",
              "          dataTable['output_type'] = 'display_data';\n",
              "          await google.colab.output.renderOutput(dataTable, element);\n",
              "          const docLink = document.createElement('div');\n",
              "          docLink.innerHTML = docLinkHtml;\n",
              "          element.appendChild(docLink);\n",
              "        }\n",
              "      </script>\n",
              "    </div>\n",
              "  </div>\n",
              "  "
            ]
          },
          "metadata": {},
          "execution_count": 260
        }
      ]
    },
    {
      "cell_type": "code",
      "source": [
        "merge_crash=pd.merge(crash_data_sliced.reset_index(), yearly_data, how='outer', on=['TICKER','date'])\n"
      ],
      "metadata": {
        "id": "oHXXgEmR1PVJ"
      },
      "execution_count": 261,
      "outputs": []
    },
    {
      "cell_type": "code",
      "source": [
        "merge_crash[['annual_mean', 'annual_std']]=merge_crash\\\n",
        ".sort_values(by=['TICKER','date'])\\\n",
        ".iloc[:,-2:]\\\n",
        ".fillna(method='bfill')\n",
        "merge_crash['residuals']=merge_crash.sort_values(by=['TICKER', 'date'])\\\n",
        "['residuals']\\\n",
        ".fillna(method='ffill')\n",
        "merge_crash=merge_crash.drop(merge_crash.iloc[:,-4:-2],axis=1)"
      ],
      "metadata": {
        "id": "gkufUHdt3DID"
      },
      "execution_count": 262,
      "outputs": []
    },
    {
      "cell_type": "code",
      "source": [
        "crash_risk_out=[]\n",
        "for j in stocks:\n",
        "  for k in range(len(merge_crash[merge_crash.TICKER==j])):\n",
        "    if merge_crash[merge_crash.TICKER==j]['residuals'].iloc[k]<\\\n",
        "    merge_crash[merge_crash.TICKER==j]['annual_mean'].iloc[k]-\\\n",
        "    3.09*\\\n",
        "    merge_crash[merge_crash.TICKER==j]['annual_std'].iloc[k]:\n",
        "      crash_risk_out.append(1)\n",
        "    else:\n",
        "      crash_risk_out.append(0)\n"
      ],
      "metadata": {
        "id": "iHuUeoF73kGR"
      },
      "execution_count": 263,
      "outputs": []
    },
    {
      "cell_type": "code",
      "source": [
        "merge_crash['crash_risk']=crash_risk_out\n",
        "merge_crash['crash_risk'].value_counts()"
      ],
      "metadata": {
        "colab": {
          "base_uri": "https://localhost:8080/"
        },
        "id": "dG8bd_GR4N6L",
        "outputId": "131d2ac0-e08d-4c2d-a3d8-885409846bb0"
      },
      "execution_count": 264,
      "outputs": [
        {
          "output_type": "execute_result",
          "data": {
            "text/plain": [
              "0    13476\n",
              "1       44\n",
              "Name: crash_risk, dtype: int64"
            ]
          },
          "metadata": {},
          "execution_count": 264
        }
      ]
    },
    {
      "cell_type": "code",
      "source": [
        "merge_crash=merge_crash.set_index('date')\n",
        "merge_crash_annual=merge_crash.groupby('TICKER')\\\n",
        ".resample('1Y')['crash_risk'].sum().reset_index()"
      ],
      "metadata": {
        "id": "2nlnzEYy5IFB"
      },
      "execution_count": 265,
      "outputs": []
    },
    {
      "cell_type": "code",
      "source": [
        "down=[]\n",
        "for j in range(len(merge_crash)):\n",
        "  if merge_crash['residuals'].iloc[j]<\\\n",
        "  merge_crash['annual_mean'].iloc[j]:\n",
        "    down.append(1)\n",
        "  else:\n",
        "    down.append(0)"
      ],
      "metadata": {
        "id": "PZ38ekpS5YYn"
      },
      "execution_count": 266,
      "outputs": []
    },
    {
      "cell_type": "code",
      "source": [
        "merge_crash=merge_crash.reset_index()\n",
        "merge_crash['down']=pd.DataFrame(down)\n",
        "merge_crash['up']=1-merge_crash['down']\n",
        "down_residuals=merge_crash[merge_crash.down==1]\\\n",
        "[['residuals','TICKER', 'date']]\n",
        "up_residuals=merge_crash[merge_crash.up==1]\\\n",
        "[['residuals', 'TICKER', 'date']]"
      ],
      "metadata": {
        "id": "dlNP47eW5o3X"
      },
      "execution_count": 267,
      "outputs": []
    },
    {
      "cell_type": "code",
      "source": [
        "down_residuals['residuals_down_sq']=down_residuals['residuals']**2\n",
        "down_residuals['residuals_down_cubic']=down_residuals['residuals']**3\n",
        "up_residuals['residuals_up_sq']=up_residuals['residuals']**2\n",
        "up_residuals['residuals_up_cubic']=up_residuals['residuals']**3\n",
        "down_residuals['down_residuals']=down_residuals['residuals']\n",
        "up_residuals['up_residuals']=up_residuals['residuals']\n",
        "del down_residuals['residuals']\n",
        "del up_residuals['residuals']\n",
        "                   "
      ],
      "metadata": {
        "id": "3_UDsI106HFR"
      },
      "execution_count": 268,
      "outputs": []
    },
    {
      "cell_type": "code",
      "source": [
        "merge_crash['residuals_sq']=merge_crash['residuals']**2\n",
        "merge_crash['residuals_cubic']=merge_crash['residuals']**3"
      ],
      "metadata": {
        "id": "d647kmjE61G4"
      },
      "execution_count": 269,
      "outputs": []
    },
    {
      "cell_type": "code",
      "source": [
        "merge_crash_all=merge_crash.merge(down_residuals, on=['TICKER', 'date'],\n",
        "                                  how='outer')\n",
        "merge_crash_all=merge_crash_all.merge(up_residuals,\n",
        "                                      on=['TICKER', 'date'],\n",
        "                                      how='outer')"
      ],
      "metadata": {
        "id": "F_OCdYrE7Hmu"
      },
      "execution_count": 270,
      "outputs": []
    },
    {
      "cell_type": "code",
      "source": [
        "cols=['BIDLO', 'ASKHI', 'residuals',\n",
        "      'annual_std', 'residuals_sq', 'residuals_cubic',\n",
        "      'down','up', 'residuals_up_sq', 'residuals_down_sq',\n",
        "      'neg_outliers']\n",
        "merge_crash_all=merge_crash_all.set_index('date')\n",
        "merge_grouped=merge_crash_all.groupby('TICKER')[cols]\\\n",
        ".resample('1Y').sum().reset_index()\n",
        "merge_grouped['neg_outliers']=np.where(merge_grouped.neg_outliers>=1,1,0)"
      ],
      "metadata": {
        "id": "Em8nIpYE7kzf"
      },
      "execution_count": 271,
      "outputs": []
    },
    {
      "cell_type": "code",
      "source": [
        "merge_grouped=merge_grouped.set_index('date')\n",
        "merge_all=merge_grouped.groupby('TICKER')\\\n",
        ".resample('1Y').agg({'down':['sum', 'count'],\n",
        "                     'up':['sum','count']})\\\n",
        "                     .reset_index()\n",
        "merge_all.head()"
      ],
      "metadata": {
        "colab": {
          "base_uri": "https://localhost:8080/",
          "height": 237
        },
        "id": "-cS7URrA-zgR",
        "outputId": "4546b99c-b57a-4a18-f4ce-b536fee72a96"
      },
      "execution_count": 272,
      "outputs": [
        {
          "output_type": "execute_result",
          "data": {
            "text/plain": [
              "  TICKER       date down        up      \n",
              "                     sum count sum count\n",
              "0   AAPL 2010-12-31   27     1  23     1\n",
              "1   AAPL 2011-12-31   26     1  27     1\n",
              "2   AAPL 2012-12-31   28     1  26     1\n",
              "3   AAPL 2013-12-31   24     1  29     1\n",
              "4   AAPL 2014-12-31   22     1  31     1"
            ],
            "text/html": [
              "\n",
              "  <div id=\"df-f5d930a7-938e-4698-8980-387a6d24a901\">\n",
              "    <div class=\"colab-df-container\">\n",
              "      <div>\n",
              "<style scoped>\n",
              "    .dataframe tbody tr th:only-of-type {\n",
              "        vertical-align: middle;\n",
              "    }\n",
              "\n",
              "    .dataframe tbody tr th {\n",
              "        vertical-align: top;\n",
              "    }\n",
              "\n",
              "    .dataframe thead tr th {\n",
              "        text-align: left;\n",
              "    }\n",
              "</style>\n",
              "<table border=\"1\" class=\"dataframe\">\n",
              "  <thead>\n",
              "    <tr>\n",
              "      <th></th>\n",
              "      <th>TICKER</th>\n",
              "      <th>date</th>\n",
              "      <th colspan=\"2\" halign=\"left\">down</th>\n",
              "      <th colspan=\"2\" halign=\"left\">up</th>\n",
              "    </tr>\n",
              "    <tr>\n",
              "      <th></th>\n",
              "      <th></th>\n",
              "      <th></th>\n",
              "      <th>sum</th>\n",
              "      <th>count</th>\n",
              "      <th>sum</th>\n",
              "      <th>count</th>\n",
              "    </tr>\n",
              "  </thead>\n",
              "  <tbody>\n",
              "    <tr>\n",
              "      <th>0</th>\n",
              "      <td>AAPL</td>\n",
              "      <td>2010-12-31</td>\n",
              "      <td>27</td>\n",
              "      <td>1</td>\n",
              "      <td>23</td>\n",
              "      <td>1</td>\n",
              "    </tr>\n",
              "    <tr>\n",
              "      <th>1</th>\n",
              "      <td>AAPL</td>\n",
              "      <td>2011-12-31</td>\n",
              "      <td>26</td>\n",
              "      <td>1</td>\n",
              "      <td>27</td>\n",
              "      <td>1</td>\n",
              "    </tr>\n",
              "    <tr>\n",
              "      <th>2</th>\n",
              "      <td>AAPL</td>\n",
              "      <td>2012-12-31</td>\n",
              "      <td>28</td>\n",
              "      <td>1</td>\n",
              "      <td>26</td>\n",
              "      <td>1</td>\n",
              "    </tr>\n",
              "    <tr>\n",
              "      <th>3</th>\n",
              "      <td>AAPL</td>\n",
              "      <td>2013-12-31</td>\n",
              "      <td>24</td>\n",
              "      <td>1</td>\n",
              "      <td>29</td>\n",
              "      <td>1</td>\n",
              "    </tr>\n",
              "    <tr>\n",
              "      <th>4</th>\n",
              "      <td>AAPL</td>\n",
              "      <td>2014-12-31</td>\n",
              "      <td>22</td>\n",
              "      <td>1</td>\n",
              "      <td>31</td>\n",
              "      <td>1</td>\n",
              "    </tr>\n",
              "  </tbody>\n",
              "</table>\n",
              "</div>\n",
              "      <button class=\"colab-df-convert\" onclick=\"convertToInteractive('df-f5d930a7-938e-4698-8980-387a6d24a901')\"\n",
              "              title=\"Convert this dataframe to an interactive table.\"\n",
              "              style=\"display:none;\">\n",
              "        \n",
              "  <svg xmlns=\"http://www.w3.org/2000/svg\" height=\"24px\"viewBox=\"0 0 24 24\"\n",
              "       width=\"24px\">\n",
              "    <path d=\"M0 0h24v24H0V0z\" fill=\"none\"/>\n",
              "    <path d=\"M18.56 5.44l.94 2.06.94-2.06 2.06-.94-2.06-.94-.94-2.06-.94 2.06-2.06.94zm-11 1L8.5 8.5l.94-2.06 2.06-.94-2.06-.94L8.5 2.5l-.94 2.06-2.06.94zm10 10l.94 2.06.94-2.06 2.06-.94-2.06-.94-.94-2.06-.94 2.06-2.06.94z\"/><path d=\"M17.41 7.96l-1.37-1.37c-.4-.4-.92-.59-1.43-.59-.52 0-1.04.2-1.43.59L10.3 9.45l-7.72 7.72c-.78.78-.78 2.05 0 2.83L4 21.41c.39.39.9.59 1.41.59.51 0 1.02-.2 1.41-.59l7.78-7.78 2.81-2.81c.8-.78.8-2.07 0-2.86zM5.41 20L4 18.59l7.72-7.72 1.47 1.35L5.41 20z\"/>\n",
              "  </svg>\n",
              "      </button>\n",
              "      \n",
              "  <style>\n",
              "    .colab-df-container {\n",
              "      display:flex;\n",
              "      flex-wrap:wrap;\n",
              "      gap: 12px;\n",
              "    }\n",
              "\n",
              "    .colab-df-convert {\n",
              "      background-color: #E8F0FE;\n",
              "      border: none;\n",
              "      border-radius: 50%;\n",
              "      cursor: pointer;\n",
              "      display: none;\n",
              "      fill: #1967D2;\n",
              "      height: 32px;\n",
              "      padding: 0 0 0 0;\n",
              "      width: 32px;\n",
              "    }\n",
              "\n",
              "    .colab-df-convert:hover {\n",
              "      background-color: #E2EBFA;\n",
              "      box-shadow: 0px 1px 2px rgba(60, 64, 67, 0.3), 0px 1px 3px 1px rgba(60, 64, 67, 0.15);\n",
              "      fill: #174EA6;\n",
              "    }\n",
              "\n",
              "    [theme=dark] .colab-df-convert {\n",
              "      background-color: #3B4455;\n",
              "      fill: #D2E3FC;\n",
              "    }\n",
              "\n",
              "    [theme=dark] .colab-df-convert:hover {\n",
              "      background-color: #434B5C;\n",
              "      box-shadow: 0px 1px 3px 1px rgba(0, 0, 0, 0.15);\n",
              "      filter: drop-shadow(0px 1px 2px rgba(0, 0, 0, 0.3));\n",
              "      fill: #FFFFFF;\n",
              "    }\n",
              "  </style>\n",
              "\n",
              "      <script>\n",
              "        const buttonEl =\n",
              "          document.querySelector('#df-f5d930a7-938e-4698-8980-387a6d24a901 button.colab-df-convert');\n",
              "        buttonEl.style.display =\n",
              "          google.colab.kernel.accessAllowed ? 'block' : 'none';\n",
              "\n",
              "        async function convertToInteractive(key) {\n",
              "          const element = document.querySelector('#df-f5d930a7-938e-4698-8980-387a6d24a901');\n",
              "          const dataTable =\n",
              "            await google.colab.kernel.invokeFunction('convertToInteractive',\n",
              "                                                     [key], {});\n",
              "          if (!dataTable) return;\n",
              "\n",
              "          const docLinkHtml = 'Like what you see? Visit the ' +\n",
              "            '<a target=\"_blank\" href=https://colab.research.google.com/notebooks/data_table.ipynb>data table notebook</a>'\n",
              "            + ' to learn more about interactive tables.';\n",
              "          element.innerHTML = '';\n",
              "          dataTable['output_type'] = 'display_data';\n",
              "          await google.colab.output.renderOutput(dataTable, element);\n",
              "          const docLink = document.createElement('div');\n",
              "          docLink.innerHTML = docLinkHtml;\n",
              "          element.appendChild(docLink);\n",
              "        }\n",
              "      </script>\n",
              "    </div>\n",
              "  </div>\n",
              "  "
            ]
          },
          "metadata": {},
          "execution_count": 272
        }
      ]
    },
    {
      "cell_type": "code",
      "source": [
        "merge_grouped['down']=merge_all['down']['sum'].values\n",
        "merge_grouped['up']=merge_all['up']['sum'].values\n",
        "merge_grouped['count']=merge_grouped['down']+merge_grouped['up']\n"
      ],
      "metadata": {
        "id": "BINpwrLP9R7P"
      },
      "execution_count": 273,
      "outputs": []
    },
    {
      "cell_type": "code",
      "source": [
        "merge_grouped=merge_grouped.reset_index()"
      ],
      "metadata": {
        "id": "2zGtveySAmEa"
      },
      "execution_count": 274,
      "outputs": []
    },
    {
      "cell_type": "code",
      "source": [
        "merge_grouped['duvol']=np.log(((merge_grouped['up']-1)*\n",
        "                               merge_grouped['residuals_down_sq'])/\n",
        "                              ((merge_grouped['down']-1)*\n",
        "                               merge_grouped['residuals_up_sq']))"
      ],
      "metadata": {
        "id": "aTpdcyhs9ePW"
      },
      "execution_count": 275,
      "outputs": []
    },
    {
      "cell_type": "code",
      "source": [
        "merge_grouped['duvol'].mean()"
      ],
      "metadata": {
        "colab": {
          "base_uri": "https://localhost:8080/"
        },
        "id": "qJ0SvsXR9v_e",
        "outputId": "6dcaae69-be54-4d8d-a4b7-07c204812a15"
      },
      "execution_count": 276,
      "outputs": [
        {
          "output_type": "execute_result",
          "data": {
            "text/plain": [
              "-0.02337149875811484"
            ]
          },
          "metadata": {},
          "execution_count": 276
        }
      ]
    },
    {
      "cell_type": "code",
      "source": [
        "merge_grouped['ncskew']=-(((merge_grouped['count']*\n",
        "                            (merge_grouped['count']-1)**\n",
        "                            (3/2))*\n",
        "                           merge_grouped['residuals_cubic'])/\n",
        "                          (((merge_grouped['count']-1)*\n",
        "                            (merge_grouped['count']-2))*\n",
        "                           merge_grouped['residuals_sq']**\n",
        "                           (3/2)))"
      ],
      "metadata": {
        "id": "lrSEBCP1970G"
      },
      "execution_count": 277,
      "outputs": []
    },
    {
      "cell_type": "code",
      "source": [
        "merge_grouped['ncskew'].mean()"
      ],
      "metadata": {
        "colab": {
          "base_uri": "https://localhost:8080/"
        },
        "id": "KGq8o42F-YPM",
        "outputId": "43eb56d1-c7a8-40ee-b90b-536837884e88"
      },
      "execution_count": 278,
      "outputs": [
        {
          "output_type": "execute_result",
          "data": {
            "text/plain": [
              "-0.031025284134663003"
            ]
          },
          "metadata": {},
          "execution_count": 278
        }
      ]
    },
    {
      "cell_type": "code",
      "source": [
        "merge_grouped['crash_risk']=merge_crash_annual['crash_risk']\n",
        "merge_grouped['crash_risk']=np.where(merge_grouped.crash_risk>=1,1,0)"
      ],
      "metadata": {
        "id": "P0G9Nvym2lLF"
      },
      "execution_count": 279,
      "outputs": []
    },
    {
      "cell_type": "code",
      "source": [
        "merge_crash_all_grouped2=merge_crash_all.groupby('TICKER')\\\n",
        "[['VOL', 'PRC']]\\\n",
        ".resample('1Y').mean().reset_index()\n",
        "merge_grouped[['VOL','PRC']]=merge_crash_all_grouped2[['VOL','PRC']]\n",
        "merge_grouped[['ncskew', 'duvol']].corr()"
      ],
      "metadata": {
        "colab": {
          "base_uri": "https://localhost:8080/",
          "height": 112
        },
        "id": "5sBnCvaB2lcK",
        "outputId": "1820975f-40de-4b17-817a-1c203022aa41"
      },
      "execution_count": 280,
      "outputs": [
        {
          "output_type": "execute_result",
          "data": {
            "text/plain": [
              "          ncskew     duvol\n",
              "ncskew  1.000000  0.909937\n",
              "duvol   0.909937  1.000000"
            ],
            "text/html": [
              "\n",
              "  <div id=\"df-385d9c4a-dce5-4a71-83c6-e8baf5c89c52\">\n",
              "    <div class=\"colab-df-container\">\n",
              "      <div>\n",
              "<style scoped>\n",
              "    .dataframe tbody tr th:only-of-type {\n",
              "        vertical-align: middle;\n",
              "    }\n",
              "\n",
              "    .dataframe tbody tr th {\n",
              "        vertical-align: top;\n",
              "    }\n",
              "\n",
              "    .dataframe thead th {\n",
              "        text-align: right;\n",
              "    }\n",
              "</style>\n",
              "<table border=\"1\" class=\"dataframe\">\n",
              "  <thead>\n",
              "    <tr style=\"text-align: right;\">\n",
              "      <th></th>\n",
              "      <th>ncskew</th>\n",
              "      <th>duvol</th>\n",
              "    </tr>\n",
              "  </thead>\n",
              "  <tbody>\n",
              "    <tr>\n",
              "      <th>ncskew</th>\n",
              "      <td>1.000000</td>\n",
              "      <td>0.909937</td>\n",
              "    </tr>\n",
              "    <tr>\n",
              "      <th>duvol</th>\n",
              "      <td>0.909937</td>\n",
              "      <td>1.000000</td>\n",
              "    </tr>\n",
              "  </tbody>\n",
              "</table>\n",
              "</div>\n",
              "      <button class=\"colab-df-convert\" onclick=\"convertToInteractive('df-385d9c4a-dce5-4a71-83c6-e8baf5c89c52')\"\n",
              "              title=\"Convert this dataframe to an interactive table.\"\n",
              "              style=\"display:none;\">\n",
              "        \n",
              "  <svg xmlns=\"http://www.w3.org/2000/svg\" height=\"24px\"viewBox=\"0 0 24 24\"\n",
              "       width=\"24px\">\n",
              "    <path d=\"M0 0h24v24H0V0z\" fill=\"none\"/>\n",
              "    <path d=\"M18.56 5.44l.94 2.06.94-2.06 2.06-.94-2.06-.94-.94-2.06-.94 2.06-2.06.94zm-11 1L8.5 8.5l.94-2.06 2.06-.94-2.06-.94L8.5 2.5l-.94 2.06-2.06.94zm10 10l.94 2.06.94-2.06 2.06-.94-2.06-.94-.94-2.06-.94 2.06-2.06.94z\"/><path d=\"M17.41 7.96l-1.37-1.37c-.4-.4-.92-.59-1.43-.59-.52 0-1.04.2-1.43.59L10.3 9.45l-7.72 7.72c-.78.78-.78 2.05 0 2.83L4 21.41c.39.39.9.59 1.41.59.51 0 1.02-.2 1.41-.59l7.78-7.78 2.81-2.81c.8-.78.8-2.07 0-2.86zM5.41 20L4 18.59l7.72-7.72 1.47 1.35L5.41 20z\"/>\n",
              "  </svg>\n",
              "      </button>\n",
              "      \n",
              "  <style>\n",
              "    .colab-df-container {\n",
              "      display:flex;\n",
              "      flex-wrap:wrap;\n",
              "      gap: 12px;\n",
              "    }\n",
              "\n",
              "    .colab-df-convert {\n",
              "      background-color: #E8F0FE;\n",
              "      border: none;\n",
              "      border-radius: 50%;\n",
              "      cursor: pointer;\n",
              "      display: none;\n",
              "      fill: #1967D2;\n",
              "      height: 32px;\n",
              "      padding: 0 0 0 0;\n",
              "      width: 32px;\n",
              "    }\n",
              "\n",
              "    .colab-df-convert:hover {\n",
              "      background-color: #E2EBFA;\n",
              "      box-shadow: 0px 1px 2px rgba(60, 64, 67, 0.3), 0px 1px 3px 1px rgba(60, 64, 67, 0.15);\n",
              "      fill: #174EA6;\n",
              "    }\n",
              "\n",
              "    [theme=dark] .colab-df-convert {\n",
              "      background-color: #3B4455;\n",
              "      fill: #D2E3FC;\n",
              "    }\n",
              "\n",
              "    [theme=dark] .colab-df-convert:hover {\n",
              "      background-color: #434B5C;\n",
              "      box-shadow: 0px 1px 3px 1px rgba(0, 0, 0, 0.15);\n",
              "      filter: drop-shadow(0px 1px 2px rgba(0, 0, 0, 0.3));\n",
              "      fill: #FFFFFF;\n",
              "    }\n",
              "  </style>\n",
              "\n",
              "      <script>\n",
              "        const buttonEl =\n",
              "          document.querySelector('#df-385d9c4a-dce5-4a71-83c6-e8baf5c89c52 button.colab-df-convert');\n",
              "        buttonEl.style.display =\n",
              "          google.colab.kernel.accessAllowed ? 'block' : 'none';\n",
              "\n",
              "        async function convertToInteractive(key) {\n",
              "          const element = document.querySelector('#df-385d9c4a-dce5-4a71-83c6-e8baf5c89c52');\n",
              "          const dataTable =\n",
              "            await google.colab.kernel.invokeFunction('convertToInteractive',\n",
              "                                                     [key], {});\n",
              "          if (!dataTable) return;\n",
              "\n",
              "          const docLinkHtml = 'Like what you see? Visit the ' +\n",
              "            '<a target=\"_blank\" href=https://colab.research.google.com/notebooks/data_table.ipynb>data table notebook</a>'\n",
              "            + ' to learn more about interactive tables.';\n",
              "          element.innerHTML = '';\n",
              "          dataTable['output_type'] = 'display_data';\n",
              "          await google.colab.output.renderOutput(dataTable, element);\n",
              "          const docLink = document.createElement('div');\n",
              "          docLink.innerHTML = docLinkHtml;\n",
              "          element.appendChild(docLink);\n",
              "        }\n",
              "      </script>\n",
              "    </div>\n",
              "  </div>\n",
              "  "
            ]
          },
          "metadata": {},
          "execution_count": 280
        }
      ]
    },
    {
      "cell_type": "code",
      "source": [
        "bs=pd.read_csv('bs_v.3.csv')\n",
        "bs['Date']=pd.to_datetime(bs.datadate, format='%Y%m%d')\n",
        "bs['annual_date']=bs['Date'].dt.year"
      ],
      "metadata": {
        "id": "Hv05crdWAzB1"
      },
      "execution_count": 281,
      "outputs": []
    },
    {
      "cell_type": "code",
      "source": [
        "bs['ROA']=bs['ni']/bs['at']\n",
        "bs['leverage']=bs['lt']/bs['at']"
      ],
      "metadata": {
        "id": "oGDifZn5kDpF"
      },
      "execution_count": 282,
      "outputs": []
    },
    {
      "cell_type": "code",
      "source": [
        "merge_grouped['annual_date']=merge_grouped['date'].dt.year\n",
        "bs['TICKER']=bs.tic\n",
        "del bs['tic']\n"
      ],
      "metadata": {
        "id": "fX8tdpT-qsdy"
      },
      "execution_count": 283,
      "outputs": []
    },
    {
      "cell_type": "code",
      "source": [
        "merge_ret_bs=pd.merge(bs, merge_grouped,\n",
        "                      on=['TICKER', 'annual_date'])\n"
      ],
      "metadata": {
        "id": "xOeAQyS5q2VR"
      },
      "execution_count": 284,
      "outputs": []
    },
    {
      "cell_type": "code",
      "source": [
        "merge_ret_bs2=merge_ret_bs.set_index('Date')\n",
        "merge_ret_bs2=merge_ret_bs2.groupby('TICKER').resample('Y').mean()\n",
        "merge_ret_bs2.reset_index(inplace=True)"
      ],
      "metadata": {
        "id": "HVc0Q0Hvq_p-"
      },
      "execution_count": 285,
      "outputs": []
    },
    {
      "cell_type": "code",
      "source": [
        "merge_ret_bs2['vol_csho_diff']=(merge_ret_bs2.groupby('TICKER')\\\n",
        "                                ['VOL'].shift(-1)/\n",
        "                                merge_ret_bs2.groupby('TICKER')\\\n",
        "                                ['csho'].shift(-1))\n",
        "merge_ret_bs2['dturn1']=merge_ret_bs2['VOL']/merge_ret_bs2['csho']\n",
        "merge_ret_bs2['dturn']=merge_ret_bs2['vol_csho_diff']-\\\n",
        "merge_ret_bs2['dturn1']\n"
      ],
      "metadata": {
        "id": "3txApus2rPvp"
      },
      "execution_count": 286,
      "outputs": []
    },
    {
      "cell_type": "code",
      "source": [
        "merge_ret_bs2['p/e']=merge_ret_bs2['PRC']/merge_ret_bs2['ni']\n",
        "merge_ret_bs2['turnover_rate']=merge_ret_bs2['VOL']/\\\n",
        "merge_ret_bs2['csho']\n",
        "merge_ret_bs2['equity_share']=merge_ret_bs2['ceq']/\\\n",
        "(merge_ret_bs2['ceq']+merge_ret_bs2['dt'])\n",
        "merge_ret_bs2['firm_size']=np.log(merge_ret_bs2['at'])\n",
        "\n"
      ],
      "metadata": {
        "id": "S3Sv_s-1sCx9"
      },
      "execution_count": 287,
      "outputs": []
    },
    {
      "cell_type": "code",
      "source": [
        "merge_ret_bs2['cefd']=(((merge_ret_bs2['at']-\n",
        "                         merge_ret_bs2['lt'])/merge_ret_bs2['csho'])-\n",
        "                       merge_ret_bs2['PRC'])/(merge_ret_bs2['at']-\n",
        "                                              merge_ret_bs2['lt'])/merge_ret_bs2['csho']\n",
        "                                              "
      ],
      "metadata": {
        "id": "m07MgYsq39bF"
      },
      "execution_count": 288,
      "outputs": []
    },
    {
      "cell_type": "code",
      "source": [
        "merge_ret_bs2=merge_ret_bs2.set_index('Date')\n",
        "merge_ret_bs2['buying_volume']=merge_ret_bs2['VOL']*\\\n",
        "(merge_ret_bs2['PRC']-\n",
        " merge_ret_bs2['BIDLO'])/\\\n",
        " (merge_ret_bs2['ASKHI']-\n",
        " merge_ret_bs2['BIDLO'])\n",
        "merge_ret_bs2['selling_volume']=merge_ret_bs2['VOL']*\\\n",
        "(merge_ret_bs2['ASKHI']-\n",
        " merge_ret_bs2['PRC'])/\\\n",
        " (merge_ret_bs2['ASKHI']-\n",
        "  merge_ret_bs2['BIDLO'])\n",
        "buying_volume=merge_ret_bs2.groupby('TICKER')['buying_volume']\\\n",
        ".resample('Y').sum().reset_index()\n",
        "selling_volume=merge_ret_bs2.groupby('TICKER')['selling_volume']\\\n",
        ".resample('Y').sum().reset_index()\n",
        "del buying_volume['TICKER']\n",
        "del buying_volume['Date']"
      ],
      "metadata": {
        "id": "MOWCx7J85afx"
      },
      "execution_count": 289,
      "outputs": []
    },
    {
      "cell_type": "code",
      "source": [
        "buy_sel_vol=pd.concat([buying_volume,selling_volume], axis=1)\n",
        "buy_sel_vol['bsi']=(buy_sel_vol.buying_volume-\n",
        "                    buy_sel_vol.selling_volume)/\\\n",
        "                    (buy_sel_vol.buying_volume+\n",
        "                     buy_sel_vol.selling_volume)"
      ],
      "metadata": {
        "id": "JjaTmymB6ng4"
      },
      "execution_count": 290,
      "outputs": []
    },
    {
      "cell_type": "code",
      "source": [
        "merge_ret_bs2=merge_ret_bs2.reset_index()\n",
        "merge_ret_bs2=pd.merge(buy_sel_vol, merge_ret_bs2, on=['TICKER','Date'])"
      ],
      "metadata": {
        "id": "vKCd5rZG7e_6"
      },
      "execution_count": 291,
      "outputs": []
    },
    {
      "cell_type": "code",
      "source": [
        "from sklearn.preprocessing import StandardScaler\n",
        "from sklearn.decomposition import PCA\n"
      ],
      "metadata": {
        "id": "hWmi27Qy7rmO"
      },
      "execution_count": 292,
      "outputs": []
    },
    {
      "cell_type": "code",
      "source": [
        "firm_sentiment=merge_ret_bs2[['p/e', 'turnover_rate',\n",
        "                              'equity_share', 'cefd',\n",
        "                              'leverage', 'bsi']]\n",
        "firm_sentiment=firm_sentiment.apply(lambda x: x.fillna(x.mean()),\n",
        "                                    axis=0)\n",
        "                              "
      ],
      "metadata": {
        "id": "loXEWZmv715z"
      },
      "execution_count": 293,
      "outputs": []
    },
    {
      "cell_type": "code",
      "source": [
        "firm_sentiment_std=StandardScaler().fit_transform(firm_sentiment)\n",
        "pca=PCA(n_components=6)\n",
        "pca_market_sentiment=pca.fit_transform(firm_sentiment_std)\n",
        "print('Explained Variance Ratios per Component are:\\n {}'\\\n",
        "      .format(pca.explained_variance_ratio_))\n"
      ],
      "metadata": {
        "colab": {
          "base_uri": "https://localhost:8080/"
        },
        "id": "pC74NlEg8KYV",
        "outputId": "762cd4ef-38f0-46b0-d21f-68a0a7377a2f"
      },
      "execution_count": 294,
      "outputs": [
        {
          "output_type": "stream",
          "name": "stdout",
          "text": [
            "Explained Variance Ratios per Component are:\n",
            " [0.35828322 0.2752777  0.15343653 0.12206041 0.06681776 0.02412438]\n"
          ]
        }
      ]
    },
    {
      "cell_type": "code",
      "source": [
        "loadings_1=pd.DataFrame(pca.components_.T*\n",
        "                        np.sqrt(pca.explained_variance_),\n",
        "                        columns=['PC1', 'PC2', 'PC3',\n",
        "                                 'PC4', 'PC5', 'PC6'],\n",
        "                        index=firm_sentiment.columns)\n",
        "loadings_1"
      ],
      "metadata": {
        "colab": {
          "base_uri": "https://localhost:8080/",
          "height": 237
        },
        "id": "ov-UyC3e8p_S",
        "outputId": "04c1830e-f734-4425-9b7c-fd8124a74df3"
      },
      "execution_count": 295,
      "outputs": [
        {
          "output_type": "execute_result",
          "data": {
            "text/plain": [
              "                    PC1       PC2       PC3       PC4       PC5       PC6\n",
              "p/e           -0.250786  0.326182  0.911665  0.056323  0.000583  0.021730\n",
              "turnover_rate -0.101554  0.854432 -0.197381  0.201749  0.428911 -0.008421\n",
              "equity_share  -0.913620 -0.162406 -0.133783  0.224513 -0.031672  0.271443\n",
              "cefd           0.639570 -0.118671  0.038422  0.754467 -0.100176  0.014146\n",
              "leverage       0.917298  0.098311  0.068633 -0.264369  0.089224  0.265335\n",
              "bsi            0.006731  0.878526 -0.173740 -0.044127 -0.446735  0.022520"
            ],
            "text/html": [
              "\n",
              "  <div id=\"df-db08a7e1-2011-4af8-9497-71a31c89547c\">\n",
              "    <div class=\"colab-df-container\">\n",
              "      <div>\n",
              "<style scoped>\n",
              "    .dataframe tbody tr th:only-of-type {\n",
              "        vertical-align: middle;\n",
              "    }\n",
              "\n",
              "    .dataframe tbody tr th {\n",
              "        vertical-align: top;\n",
              "    }\n",
              "\n",
              "    .dataframe thead th {\n",
              "        text-align: right;\n",
              "    }\n",
              "</style>\n",
              "<table border=\"1\" class=\"dataframe\">\n",
              "  <thead>\n",
              "    <tr style=\"text-align: right;\">\n",
              "      <th></th>\n",
              "      <th>PC1</th>\n",
              "      <th>PC2</th>\n",
              "      <th>PC3</th>\n",
              "      <th>PC4</th>\n",
              "      <th>PC5</th>\n",
              "      <th>PC6</th>\n",
              "    </tr>\n",
              "  </thead>\n",
              "  <tbody>\n",
              "    <tr>\n",
              "      <th>p/e</th>\n",
              "      <td>-0.250786</td>\n",
              "      <td>0.326182</td>\n",
              "      <td>0.911665</td>\n",
              "      <td>0.056323</td>\n",
              "      <td>0.000583</td>\n",
              "      <td>0.021730</td>\n",
              "    </tr>\n",
              "    <tr>\n",
              "      <th>turnover_rate</th>\n",
              "      <td>-0.101554</td>\n",
              "      <td>0.854432</td>\n",
              "      <td>-0.197381</td>\n",
              "      <td>0.201749</td>\n",
              "      <td>0.428911</td>\n",
              "      <td>-0.008421</td>\n",
              "    </tr>\n",
              "    <tr>\n",
              "      <th>equity_share</th>\n",
              "      <td>-0.913620</td>\n",
              "      <td>-0.162406</td>\n",
              "      <td>-0.133783</td>\n",
              "      <td>0.224513</td>\n",
              "      <td>-0.031672</td>\n",
              "      <td>0.271443</td>\n",
              "    </tr>\n",
              "    <tr>\n",
              "      <th>cefd</th>\n",
              "      <td>0.639570</td>\n",
              "      <td>-0.118671</td>\n",
              "      <td>0.038422</td>\n",
              "      <td>0.754467</td>\n",
              "      <td>-0.100176</td>\n",
              "      <td>0.014146</td>\n",
              "    </tr>\n",
              "    <tr>\n",
              "      <th>leverage</th>\n",
              "      <td>0.917298</td>\n",
              "      <td>0.098311</td>\n",
              "      <td>0.068633</td>\n",
              "      <td>-0.264369</td>\n",
              "      <td>0.089224</td>\n",
              "      <td>0.265335</td>\n",
              "    </tr>\n",
              "    <tr>\n",
              "      <th>bsi</th>\n",
              "      <td>0.006731</td>\n",
              "      <td>0.878526</td>\n",
              "      <td>-0.173740</td>\n",
              "      <td>-0.044127</td>\n",
              "      <td>-0.446735</td>\n",
              "      <td>0.022520</td>\n",
              "    </tr>\n",
              "  </tbody>\n",
              "</table>\n",
              "</div>\n",
              "      <button class=\"colab-df-convert\" onclick=\"convertToInteractive('df-db08a7e1-2011-4af8-9497-71a31c89547c')\"\n",
              "              title=\"Convert this dataframe to an interactive table.\"\n",
              "              style=\"display:none;\">\n",
              "        \n",
              "  <svg xmlns=\"http://www.w3.org/2000/svg\" height=\"24px\"viewBox=\"0 0 24 24\"\n",
              "       width=\"24px\">\n",
              "    <path d=\"M0 0h24v24H0V0z\" fill=\"none\"/>\n",
              "    <path d=\"M18.56 5.44l.94 2.06.94-2.06 2.06-.94-2.06-.94-.94-2.06-.94 2.06-2.06.94zm-11 1L8.5 8.5l.94-2.06 2.06-.94-2.06-.94L8.5 2.5l-.94 2.06-2.06.94zm10 10l.94 2.06.94-2.06 2.06-.94-2.06-.94-.94-2.06-.94 2.06-2.06.94z\"/><path d=\"M17.41 7.96l-1.37-1.37c-.4-.4-.92-.59-1.43-.59-.52 0-1.04.2-1.43.59L10.3 9.45l-7.72 7.72c-.78.78-.78 2.05 0 2.83L4 21.41c.39.39.9.59 1.41.59.51 0 1.02-.2 1.41-.59l7.78-7.78 2.81-2.81c.8-.78.8-2.07 0-2.86zM5.41 20L4 18.59l7.72-7.72 1.47 1.35L5.41 20z\"/>\n",
              "  </svg>\n",
              "      </button>\n",
              "      \n",
              "  <style>\n",
              "    .colab-df-container {\n",
              "      display:flex;\n",
              "      flex-wrap:wrap;\n",
              "      gap: 12px;\n",
              "    }\n",
              "\n",
              "    .colab-df-convert {\n",
              "      background-color: #E8F0FE;\n",
              "      border: none;\n",
              "      border-radius: 50%;\n",
              "      cursor: pointer;\n",
              "      display: none;\n",
              "      fill: #1967D2;\n",
              "      height: 32px;\n",
              "      padding: 0 0 0 0;\n",
              "      width: 32px;\n",
              "    }\n",
              "\n",
              "    .colab-df-convert:hover {\n",
              "      background-color: #E2EBFA;\n",
              "      box-shadow: 0px 1px 2px rgba(60, 64, 67, 0.3), 0px 1px 3px 1px rgba(60, 64, 67, 0.15);\n",
              "      fill: #174EA6;\n",
              "    }\n",
              "\n",
              "    [theme=dark] .colab-df-convert {\n",
              "      background-color: #3B4455;\n",
              "      fill: #D2E3FC;\n",
              "    }\n",
              "\n",
              "    [theme=dark] .colab-df-convert:hover {\n",
              "      background-color: #434B5C;\n",
              "      box-shadow: 0px 1px 3px 1px rgba(0, 0, 0, 0.15);\n",
              "      filter: drop-shadow(0px 1px 2px rgba(0, 0, 0, 0.3));\n",
              "      fill: #FFFFFF;\n",
              "    }\n",
              "  </style>\n",
              "\n",
              "      <script>\n",
              "        const buttonEl =\n",
              "          document.querySelector('#df-db08a7e1-2011-4af8-9497-71a31c89547c button.colab-df-convert');\n",
              "        buttonEl.style.display =\n",
              "          google.colab.kernel.accessAllowed ? 'block' : 'none';\n",
              "\n",
              "        async function convertToInteractive(key) {\n",
              "          const element = document.querySelector('#df-db08a7e1-2011-4af8-9497-71a31c89547c');\n",
              "          const dataTable =\n",
              "            await google.colab.kernel.invokeFunction('convertToInteractive',\n",
              "                                                     [key], {});\n",
              "          if (!dataTable) return;\n",
              "\n",
              "          const docLinkHtml = 'Like what you see? Visit the ' +\n",
              "            '<a target=\"_blank\" href=https://colab.research.google.com/notebooks/data_table.ipynb>data table notebook</a>'\n",
              "            + ' to learn more about interactive tables.';\n",
              "          element.innerHTML = '';\n",
              "          dataTable['output_type'] = 'display_data';\n",
              "          await google.colab.output.renderOutput(dataTable, element);\n",
              "          const docLink = document.createElement('div');\n",
              "          docLink.innerHTML = docLinkHtml;\n",
              "          element.appendChild(docLink);\n",
              "        }\n",
              "      </script>\n",
              "    </div>\n",
              "  </div>\n",
              "  "
            ]
          },
          "metadata": {},
          "execution_count": 295
        }
      ]
    },
    {
      "cell_type": "code",
      "source": [
        "df_loading1=pd.DataFrame(loadings_1.mean(axis=1))\n",
        "df_loading1"
      ],
      "metadata": {
        "colab": {
          "base_uri": "https://localhost:8080/",
          "height": 237
        },
        "id": "pf_gjtQK9hN7",
        "outputId": "97f8cfad-aaca-46be-e3b6-80f5e8b6a2ae"
      },
      "execution_count": 296,
      "outputs": [
        {
          "output_type": "execute_result",
          "data": {
            "text/plain": [
              "                      0\n",
              "p/e            0.177616\n",
              "turnover_rate  0.196289\n",
              "equity_share  -0.124254\n",
              "cefd           0.204626\n",
              "leverage       0.195739\n",
              "bsi            0.040529"
            ],
            "text/html": [
              "\n",
              "  <div id=\"df-4e06913a-f7bc-4761-995f-3f8ee1ab8737\">\n",
              "    <div class=\"colab-df-container\">\n",
              "      <div>\n",
              "<style scoped>\n",
              "    .dataframe tbody tr th:only-of-type {\n",
              "        vertical-align: middle;\n",
              "    }\n",
              "\n",
              "    .dataframe tbody tr th {\n",
              "        vertical-align: top;\n",
              "    }\n",
              "\n",
              "    .dataframe thead th {\n",
              "        text-align: right;\n",
              "    }\n",
              "</style>\n",
              "<table border=\"1\" class=\"dataframe\">\n",
              "  <thead>\n",
              "    <tr style=\"text-align: right;\">\n",
              "      <th></th>\n",
              "      <th>0</th>\n",
              "    </tr>\n",
              "  </thead>\n",
              "  <tbody>\n",
              "    <tr>\n",
              "      <th>p/e</th>\n",
              "      <td>0.177616</td>\n",
              "    </tr>\n",
              "    <tr>\n",
              "      <th>turnover_rate</th>\n",
              "      <td>0.196289</td>\n",
              "    </tr>\n",
              "    <tr>\n",
              "      <th>equity_share</th>\n",
              "      <td>-0.124254</td>\n",
              "    </tr>\n",
              "    <tr>\n",
              "      <th>cefd</th>\n",
              "      <td>0.204626</td>\n",
              "    </tr>\n",
              "    <tr>\n",
              "      <th>leverage</th>\n",
              "      <td>0.195739</td>\n",
              "    </tr>\n",
              "    <tr>\n",
              "      <th>bsi</th>\n",
              "      <td>0.040529</td>\n",
              "    </tr>\n",
              "  </tbody>\n",
              "</table>\n",
              "</div>\n",
              "      <button class=\"colab-df-convert\" onclick=\"convertToInteractive('df-4e06913a-f7bc-4761-995f-3f8ee1ab8737')\"\n",
              "              title=\"Convert this dataframe to an interactive table.\"\n",
              "              style=\"display:none;\">\n",
              "        \n",
              "  <svg xmlns=\"http://www.w3.org/2000/svg\" height=\"24px\"viewBox=\"0 0 24 24\"\n",
              "       width=\"24px\">\n",
              "    <path d=\"M0 0h24v24H0V0z\" fill=\"none\"/>\n",
              "    <path d=\"M18.56 5.44l.94 2.06.94-2.06 2.06-.94-2.06-.94-.94-2.06-.94 2.06-2.06.94zm-11 1L8.5 8.5l.94-2.06 2.06-.94-2.06-.94L8.5 2.5l-.94 2.06-2.06.94zm10 10l.94 2.06.94-2.06 2.06-.94-2.06-.94-.94-2.06-.94 2.06-2.06.94z\"/><path d=\"M17.41 7.96l-1.37-1.37c-.4-.4-.92-.59-1.43-.59-.52 0-1.04.2-1.43.59L10.3 9.45l-7.72 7.72c-.78.78-.78 2.05 0 2.83L4 21.41c.39.39.9.59 1.41.59.51 0 1.02-.2 1.41-.59l7.78-7.78 2.81-2.81c.8-.78.8-2.07 0-2.86zM5.41 20L4 18.59l7.72-7.72 1.47 1.35L5.41 20z\"/>\n",
              "  </svg>\n",
              "      </button>\n",
              "      \n",
              "  <style>\n",
              "    .colab-df-container {\n",
              "      display:flex;\n",
              "      flex-wrap:wrap;\n",
              "      gap: 12px;\n",
              "    }\n",
              "\n",
              "    .colab-df-convert {\n",
              "      background-color: #E8F0FE;\n",
              "      border: none;\n",
              "      border-radius: 50%;\n",
              "      cursor: pointer;\n",
              "      display: none;\n",
              "      fill: #1967D2;\n",
              "      height: 32px;\n",
              "      padding: 0 0 0 0;\n",
              "      width: 32px;\n",
              "    }\n",
              "\n",
              "    .colab-df-convert:hover {\n",
              "      background-color: #E2EBFA;\n",
              "      box-shadow: 0px 1px 2px rgba(60, 64, 67, 0.3), 0px 1px 3px 1px rgba(60, 64, 67, 0.15);\n",
              "      fill: #174EA6;\n",
              "    }\n",
              "\n",
              "    [theme=dark] .colab-df-convert {\n",
              "      background-color: #3B4455;\n",
              "      fill: #D2E3FC;\n",
              "    }\n",
              "\n",
              "    [theme=dark] .colab-df-convert:hover {\n",
              "      background-color: #434B5C;\n",
              "      box-shadow: 0px 1px 3px 1px rgba(0, 0, 0, 0.15);\n",
              "      filter: drop-shadow(0px 1px 2px rgba(0, 0, 0, 0.3));\n",
              "      fill: #FFFFFF;\n",
              "    }\n",
              "  </style>\n",
              "\n",
              "      <script>\n",
              "        const buttonEl =\n",
              "          document.querySelector('#df-4e06913a-f7bc-4761-995f-3f8ee1ab8737 button.colab-df-convert');\n",
              "        buttonEl.style.display =\n",
              "          google.colab.kernel.accessAllowed ? 'block' : 'none';\n",
              "\n",
              "        async function convertToInteractive(key) {\n",
              "          const element = document.querySelector('#df-4e06913a-f7bc-4761-995f-3f8ee1ab8737');\n",
              "          const dataTable =\n",
              "            await google.colab.kernel.invokeFunction('convertToInteractive',\n",
              "                                                     [key], {});\n",
              "          if (!dataTable) return;\n",
              "\n",
              "          const docLinkHtml = 'Like what you see? Visit the ' +\n",
              "            '<a target=\"_blank\" href=https://colab.research.google.com/notebooks/data_table.ipynb>data table notebook</a>'\n",
              "            + ' to learn more about interactive tables.';\n",
              "          element.innerHTML = '';\n",
              "          dataTable['output_type'] = 'display_data';\n",
              "          await google.colab.output.renderOutput(dataTable, element);\n",
              "          const docLink = document.createElement('div');\n",
              "          docLink.innerHTML = docLinkHtml;\n",
              "          element.appendChild(docLink);\n",
              "        }\n",
              "      </script>\n",
              "    </div>\n",
              "  </div>\n",
              "  "
            ]
          },
          "metadata": {},
          "execution_count": 296
        }
      ]
    },
    {
      "cell_type": "code",
      "source": [
        "firm_sentiment=pd.DataFrame(np.dot(pca_market_sentiment,\n",
        "                                   np.array(df_loading1)))\n",
        "merge_ret_bs2['firm_sent']=firm_sentiment"
      ],
      "metadata": {
        "id": "gNwVSTzv9vsG"
      },
      "execution_count": 297,
      "outputs": []
    },
    {
      "cell_type": "code",
      "source": [
        "merge_ret_bs2['log_size']=np.log(merge_ret_bs2['at'])\n"
      ],
      "metadata": {
        "id": "MRRxDOjb982N"
      },
      "execution_count": 298,
      "outputs": []
    },
    {
      "cell_type": "code",
      "source": [
        "merge_ret_bs2.set_index(['TICKER','Date'], inplace=True)"
      ],
      "metadata": {
        "id": "co9g2K3D-JJi"
      },
      "execution_count": 299,
      "outputs": []
    },
    {
      "cell_type": "code",
      "source": [
        "X=(merge_ret_bs2[['log_size', 'rect', 'ppegt', 'dturn',\n",
        "                  'ncskew', 'residuals', 'ROA', 'annual_std',\n",
        "                  'firm_sent']]).shift(1)\n",
        "X['neg_outliers']=merge_ret_bs2['neg_outliers']"
      ],
      "metadata": {
        "id": "maZjwqq4-QRZ"
      },
      "execution_count": 300,
      "outputs": []
    },
    {
      "cell_type": "code",
      "source": [
        "!pip install git+https://github.com/nhennetier/pyeconometrics"
      ],
      "metadata": {
        "colab": {
          "base_uri": "https://localhost:8080/"
        },
        "id": "I_EsWmtrBkj6",
        "outputId": "3cfe63e6-5159-4e4a-9a22-04aa176dcf53"
      },
      "execution_count": 302,
      "outputs": [
        {
          "output_type": "stream",
          "name": "stdout",
          "text": [
            "Looking in indexes: https://pypi.org/simple, https://us-python.pkg.dev/colab-wheels/public/simple/\n",
            "Collecting git+https://github.com/nhennetier/pyeconometrics\n",
            "  Cloning https://github.com/nhennetier/pyeconometrics to /tmp/pip-req-build-al3a78km\n",
            "  Running command git clone --filter=blob:none --quiet https://github.com/nhennetier/pyeconometrics /tmp/pip-req-build-al3a78km\n",
            "  Resolved https://github.com/nhennetier/pyeconometrics to commit 30fef862554be3d472a753e638e33a0d13540312\n",
            "  Preparing metadata (setup.py) ... \u001b[?25l\u001b[?25hdone\n",
            "Building wheels for collected packages: pyeconometrics\n",
            "  Building wheel for pyeconometrics (setup.py) ... \u001b[?25l\u001b[?25hdone\n",
            "  Created wheel for pyeconometrics: filename=pyeconometrics-1.0.2-py3-none-any.whl size=10133 sha256=3d1ace180bf5657b74be37677f3601be057e360ed70236c02a6d9b0d1b23fb65\n",
            "  Stored in directory: /tmp/pip-ephem-wheel-cache-bgyz0q21/wheels/ad/0f/c5/23a06c119ad4de652fcb0976bdb18fac4e58400b913b2a33eb\n",
            "Successfully built pyeconometrics\n",
            "Installing collected packages: pyeconometrics\n",
            "Successfully installed pyeconometrics-1.0.2\n"
          ]
        }
      ]
    },
    {
      "cell_type": "code",
      "source": [
        "from pyeconometrics.panel_discrete_models import FixedEffectPanelModel\n",
        "from sklearn.model_selection import train_test_split\n",
        "from sklearn.metrics import accuracy_score\n"
      ],
      "metadata": {
        "id": "_mVs4NVi-_HO"
      },
      "execution_count": 304,
      "outputs": []
    },
    {
      "cell_type": "code",
      "source": [
        "FE_ML=FixedEffectPanelModel()\n",
        "FE_ML.fit(X, 'neg_outliers')\n",
        "FE_ML.summary()"
      ],
      "metadata": {
        "id": "plDT1ZjV_5bP",
        "colab": {
          "base_uri": "https://localhost:8080/"
        },
        "outputId": "770501b6-87bc-4132-a472-28e1ef535618"
      },
      "execution_count": 306,
      "outputs": [
        {
          "output_type": "stream",
          "name": "stdout",
          "text": [
            "================================================================================\n",
            "Dep. Variable:                      neg_outliers   Pseudo R-squ.:        0.09219\n",
            "Model:                 Panel Fixed Effects Logit   Log-Likelihood:       -83.395\n",
            "Method:                                      MLE   LL-Null:              -91.864\n",
            "No. Observations:                            193   LLR p-value:            0.076\n",
            "Df Model:                                      9                                \n",
            "Converged:                                  True                                \n",
            "================================================================================\n",
            "                              coef  std err        t    P>|t| [95.0% Conf. Int.]\n",
            "--------------------------------------------------------------------------------\n",
            "_cons                     -2.0232    1.100   -1.839    0.033    -4.180     0.133\n",
            "log_size                   0.1521    0.089    1.700    0.045    -0.023     0.327\n",
            "rect                      -0.0000    0.000   -4.111    0.000    -0.000    -0.000\n",
            "ppegt                     -0.0000    0.000   -0.576    0.282    -0.000     0.000\n",
            "dturn                      0.0003    0.000    7.700    0.000     0.000     0.000\n",
            "ncskew                    -0.2085    0.089   -2.343    0.010    -0.383    -0.034\n",
            "residuals                 -0.5905    1.718   -0.344    0.366    -3.957     2.776\n",
            "ROA                        0.7137    1.094    0.652    0.257    -1.430     2.858\n",
            "annual_std                 1.5946    0.554    2.881    0.002     0.510     2.679\n",
            "firm_sent                  0.6360    0.152    4.198    0.000     0.339     0.933\n",
            "--------------------------------------------------------------------------------\n"
          ]
        }
      ]
    },
    {
      "cell_type": "code",
      "source": [
        "del X['neg_outliers']\n",
        "X['crash_risk']=merge_ret_bs2['crash_risk']"
      ],
      "metadata": {
        "id": "ZNYnIArMJ0BM"
      },
      "execution_count": 307,
      "outputs": []
    },
    {
      "cell_type": "code",
      "source": [
        "FE_crash=FixedEffectPanelModel()\n",
        "FE_crash.fit(X,'crash_risk')\n",
        "FE_crash.summary()"
      ],
      "metadata": {
        "colab": {
          "base_uri": "https://localhost:8080/"
        },
        "id": "9YSxD6YKKFtw",
        "outputId": "4038cea6-35f3-45bb-e99d-7d3142bb529f"
      },
      "execution_count": 308,
      "outputs": [
        {
          "output_type": "stream",
          "name": "stdout",
          "text": [
            "================================================================================\n",
            "Dep. Variable:                        crash_risk   Pseudo R-squ.:        0.04944\n",
            "Model:                 Panel Fixed Effects Logit   Log-Likelihood:       -55.863\n",
            "Method:                                      MLE   LL-Null:              -58.769\n",
            "No. Observations:                            193   LLR p-value:            0.831\n",
            "Df Model:                                      9                                \n",
            "Converged:                                  True                                \n",
            "================================================================================\n",
            "                              coef  std err        t    P>|t| [95.0% Conf. Int.]\n",
            "--------------------------------------------------------------------------------\n",
            "_cons                     -2.7130    1.151   -2.358    0.009    -4.969    -0.457\n",
            "log_size                   0.1697    0.094    1.804    0.036    -0.015     0.354\n",
            "rect                      -0.0000    0.000   -1.604    0.054    -0.000     0.000\n",
            "ppegt                     -0.0000    0.000   -0.519    0.302    -0.000     0.000\n",
            "dturn                      0.0001    0.000    2.661    0.004     0.000     0.000\n",
            "ncskew                     0.3368    0.114    2.961    0.002     0.114     0.560\n",
            "residuals                  2.9792    2.057    1.449    0.074    -1.052     7.010\n",
            "ROA                        2.1406    1.255    1.706    0.044    -0.319     4.600\n",
            "annual_std                 2.1142    0.655    3.227    0.001     0.830     3.398\n",
            "firm_sent                  0.0090    0.164    0.055    0.478    -0.312     0.330\n",
            "--------------------------------------------------------------------------------\n"
          ]
        }
      ]
    },
    {
      "cell_type": "code",
      "source": [],
      "metadata": {
        "id": "uYcy9sEwKOxi"
      },
      "execution_count": null,
      "outputs": []
    }
  ]
}