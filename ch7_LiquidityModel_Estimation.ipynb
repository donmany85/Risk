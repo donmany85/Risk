{
 "cells": [
  {
   "cell_type": "code",
   "execution_count": 32,
   "metadata": {},
   "outputs": [],
   "source": [
    "import pandas as pd\n",
    "import numpy as np\n",
    "import matplotlib.pyplot as plt\n",
    "import warnings\n",
    "warnings.filterwarnings(\"ignore\")\n",
    "plt.rcParams['figure.figsize'] = (10, 6) \n",
    "pd.set_option('use_inf_as_na', True)"
   ]
  },
  {
   "cell_type": "code",
   "execution_count": 33,
   "metadata": {},
   "outputs": [],
   "source": [
    "liq_data=pd.read_csv('C:/Users/yim/Documents/카카오워크 받은 파일/mlfrm-master/bid_ask.csv')"
   ]
  },
  {
   "cell_type": "code",
   "execution_count": 34,
   "metadata": {},
   "outputs": [
    {
     "data": {
      "text/html": [
       "<div>\n",
       "<style scoped>\n",
       "    .dataframe tbody tr th:only-of-type {\n",
       "        vertical-align: middle;\n",
       "    }\n",
       "\n",
       "    .dataframe tbody tr th {\n",
       "        vertical-align: top;\n",
       "    }\n",
       "\n",
       "    .dataframe thead th {\n",
       "        text-align: right;\n",
       "    }\n",
       "</style>\n",
       "<table border=\"1\" class=\"dataframe\">\n",
       "  <thead>\n",
       "    <tr style=\"text-align: right;\">\n",
       "      <th></th>\n",
       "      <th>Unnamed: 0</th>\n",
       "      <th>Date</th>\n",
       "      <th>EXCHCD</th>\n",
       "      <th>TICKER</th>\n",
       "      <th>COMNAM</th>\n",
       "      <th>BIDLO</th>\n",
       "      <th>ASKHI</th>\n",
       "      <th>PRC</th>\n",
       "      <th>VOL</th>\n",
       "      <th>RET</th>\n",
       "      <th>SHROUT</th>\n",
       "      <th>OPENPRC</th>\n",
       "      <th>vwretx</th>\n",
       "    </tr>\n",
       "  </thead>\n",
       "  <tbody>\n",
       "    <tr>\n",
       "      <th>0</th>\n",
       "      <td>1031570</td>\n",
       "      <td>2019-01-02</td>\n",
       "      <td>3.0</td>\n",
       "      <td>INTC</td>\n",
       "      <td>INTEL CORP</td>\n",
       "      <td>45.77</td>\n",
       "      <td>47.470</td>\n",
       "      <td>47.08</td>\n",
       "      <td>18761673.0</td>\n",
       "      <td>0.003196</td>\n",
       "      <td>4564000.0</td>\n",
       "      <td>45.960</td>\n",
       "      <td>0.001783</td>\n",
       "    </tr>\n",
       "    <tr>\n",
       "      <th>1</th>\n",
       "      <td>1031571</td>\n",
       "      <td>2019-01-03</td>\n",
       "      <td>3.0</td>\n",
       "      <td>INTC</td>\n",
       "      <td>INTEL CORP</td>\n",
       "      <td>44.39</td>\n",
       "      <td>46.280</td>\n",
       "      <td>44.49</td>\n",
       "      <td>32254097.0</td>\n",
       "      <td>-0.055013</td>\n",
       "      <td>4564000.0</td>\n",
       "      <td>46.150</td>\n",
       "      <td>-0.021219</td>\n",
       "    </tr>\n",
       "    <tr>\n",
       "      <th>2</th>\n",
       "      <td>1031572</td>\n",
       "      <td>2019-01-04</td>\n",
       "      <td>3.0</td>\n",
       "      <td>INTC</td>\n",
       "      <td>INTEL CORP</td>\n",
       "      <td>45.54</td>\n",
       "      <td>47.570</td>\n",
       "      <td>47.22</td>\n",
       "      <td>35419836.0</td>\n",
       "      <td>0.061362</td>\n",
       "      <td>4564000.0</td>\n",
       "      <td>45.835</td>\n",
       "      <td>0.033399</td>\n",
       "    </tr>\n",
       "    <tr>\n",
       "      <th>3</th>\n",
       "      <td>1031573</td>\n",
       "      <td>2019-01-07</td>\n",
       "      <td>3.0</td>\n",
       "      <td>INTC</td>\n",
       "      <td>INTEL CORP</td>\n",
       "      <td>46.75</td>\n",
       "      <td>47.995</td>\n",
       "      <td>47.44</td>\n",
       "      <td>22724997.0</td>\n",
       "      <td>0.004659</td>\n",
       "      <td>4564000.0</td>\n",
       "      <td>47.100</td>\n",
       "      <td>0.009191</td>\n",
       "    </tr>\n",
       "    <tr>\n",
       "      <th>4</th>\n",
       "      <td>1031574</td>\n",
       "      <td>2019-01-08</td>\n",
       "      <td>3.0</td>\n",
       "      <td>INTC</td>\n",
       "      <td>INTEL CORP</td>\n",
       "      <td>46.78</td>\n",
       "      <td>48.030</td>\n",
       "      <td>47.74</td>\n",
       "      <td>22721240.0</td>\n",
       "      <td>0.006324</td>\n",
       "      <td>4564000.0</td>\n",
       "      <td>47.800</td>\n",
       "      <td>0.010240</td>\n",
       "    </tr>\n",
       "  </tbody>\n",
       "</table>\n",
       "</div>"
      ],
      "text/plain": [
       "   Unnamed: 0        Date  EXCHCD TICKER      COMNAM  BIDLO   ASKHI    PRC  \\\n",
       "0     1031570  2019-01-02     3.0   INTC  INTEL CORP  45.77  47.470  47.08   \n",
       "1     1031571  2019-01-03     3.0   INTC  INTEL CORP  44.39  46.280  44.49   \n",
       "2     1031572  2019-01-04     3.0   INTC  INTEL CORP  45.54  47.570  47.22   \n",
       "3     1031573  2019-01-07     3.0   INTC  INTEL CORP  46.75  47.995  47.44   \n",
       "4     1031574  2019-01-08     3.0   INTC  INTEL CORP  46.78  48.030  47.74   \n",
       "\n",
       "          VOL       RET     SHROUT  OPENPRC    vwretx  \n",
       "0  18761673.0  0.003196  4564000.0   45.960  0.001783  \n",
       "1  32254097.0 -0.055013  4564000.0   46.150 -0.021219  \n",
       "2  35419836.0  0.061362  4564000.0   45.835  0.033399  \n",
       "3  22724997.0  0.004659  4564000.0   47.100  0.009191  \n",
       "4  22721240.0  0.006324  4564000.0   47.800  0.010240  "
      ]
     },
     "execution_count": 34,
     "metadata": {},
     "output_type": "execute_result"
    }
   ],
   "source": [
    "liq_data.head()"
   ]
  },
  {
   "cell_type": "code",
   "execution_count": 35,
   "metadata": {},
   "outputs": [],
   "source": [
    "rolling_five=[]\n",
    "\n",
    "for j in liq_data.TICKER.unique():\n",
    "    for i in range(len(liq_data[liq_data.TICKER==j])):\n",
    "        rolling_five.append(liq_data[i:i+5].agg({'BIDLO':'min',\n",
    "        'ASKHI':'max',\n",
    "        'VOL':'sum',\n",
    "        'SHROUT':'mean',\n",
    "        'PRC':'mean'}))"
   ]
  },
  {
   "cell_type": "code",
   "execution_count": 36,
   "metadata": {},
   "outputs": [],
   "source": [
    "rolling_five_df=pd.DataFrame(rolling_five)\n",
    "rolling_five_df.columns=['bidlo_min', 'askhi_max', 'vol_sum', 'shrout_mean', 'prc_mean']\n",
    "liq_vol_all=pd.concat([liq_data, rolling_five_df], axis=1)"
   ]
  },
  {
   "cell_type": "code",
   "execution_count": 37,
   "metadata": {},
   "outputs": [],
   "source": [
    "liq_ratio=[]\n",
    "for j in liq_vol_all.TICKER.unique():\n",
    "    for i in range(len(liq_vol_all[liq_vol_all.TICKER==j])):\n",
    "        liq_ratio.append((liq_vol_all['PRC'][i+1:i+6]*\n",
    "        liq_vol_all['VOL'][i+1:i+6]).sum()/\n",
    "        (np.abs(liq_vol_all['PRC'][i+1:i+6].mean()-\n",
    "        liq_vol_all['PRC'][i:i+5].mean())))"
   ]
  },
  {
   "cell_type": "code",
   "execution_count": 38,
   "metadata": {},
   "outputs": [],
   "source": [
    "Lhh=[]\n",
    "for j in liq_vol_all.TICKER.unique():\n",
    "    for i in range(len(liq_vol_all[liq_vol_all.TICKER==j])):\n",
    "        Lhh.append((liq_vol_all['PRC'][i:i+5].max()-\n",
    "        liq_vol_all['PRC'][i:i+5].min())/\n",
    "        liq_vol_all['PRC'][i:i+5].min()/\n",
    "        (liq_vol_all['VOL'][i:i+5].sum()/\n",
    "        liq_vol_all['SHROUT'][i:i+5].mean()*\n",
    "        liq_vol_all['PRC'][i:i+5].mean()))"
   ]
  },
  {
   "cell_type": "code",
   "execution_count": 39,
   "metadata": {},
   "outputs": [],
   "source": [
    "turnover_ratio=[]\n",
    "\n",
    "for j in liq_vol_all.TICKER.unique():\n",
    "    for i in range(len(liq_vol_all[liq_vol_all.TICKER==j])):\n",
    "        turnover_ratio.append((1/liq_vol_all['VOL'].count())*\n",
    "        (np.sum(liq_vol_all['VOL'][i:i+1])/\n",
    "        np.sum(liq_vol_all['SHROUT'][i:i+1])))"
   ]
  },
  {
   "cell_type": "code",
   "execution_count": 40,
   "metadata": {},
   "outputs": [],
   "source": [
    "liq_vol_all['liq_ratio']=pd.DataFrame(liq_ratio)\n",
    "liq_vol_all['Lhh']=pd.DataFrame(Lhh)\n",
    "liq_vol_all['turnover_ratio']=pd.DataFrame(turnover_ratio)"
   ]
  },
  {
   "cell_type": "code",
   "execution_count": 63,
   "metadata": {},
   "outputs": [],
   "source": [
    "liq_vol_all['mid_price'] = (liq_vol_all.ASKHI + liq_vol_all.BIDLO) / 2\n",
    "liq_vol_all['percent_quoted_ba'] = (liq_vol_all.ASKHI -\n",
    "liq_vol_all.BIDLO)/\\\n",
    "    liq_vol_all.mid_price\n",
    "liq_vol_all['percent_effective_ba'] = 2 * abs((liq_vol_all.PRC -\n",
    "liq_vol_all.mid_price))/\\\n",
    "    liq_vol_all.mid_price"
   ]
  },
  {
   "cell_type": "code",
   "execution_count": 41,
   "metadata": {},
   "outputs": [],
   "source": [
    "liq_vol_all['price_diff']=liq_vol_all.groupby('TICKER')['PRC']\\\n",
    "    .apply(lambda x:x.diff())\n",
    "liq_vol_all.dropna(inplace=True)\n",
    "roll=[]\n",
    "\n",
    "for j in liq_vol_all.TICKER.unique():\n",
    "    for i in range(len(liq_vol_all[liq_vol_all.TICKER==j])):\n",
    "        roll_cov=np.cov(liq_vol_all['price_diff'][i:i+5],\n",
    "        liq_vol_all['price_diff'][i+1:i+6])\n",
    "        if roll_cov[0,1]<0:\n",
    "            roll.append(2*np.sqrt(-roll_cov[0,1]))\n",
    "        else:\n",
    "            roll.append(2*np.sqrt(np.abs(roll_cov[0,1])))\n",
    "\n",
    "            \n"
   ]
  },
  {
   "cell_type": "code",
   "execution_count": 42,
   "metadata": {},
   "outputs": [],
   "source": [
    "gamma=[]\n",
    "for j in liq_vol_all.TICKER.unique():\n",
    "    for i in range(len(liq_vol_all[liq_vol_all.TICKER==j])):\n",
    "        gamma.append((max(liq_vol_all['ASKHI'].iloc[i+1],\n",
    "        liq_vol_all['ASKHI'].iloc[i])-\n",
    "        min(liq_vol_all['BIDLO'].iloc[i+1],\n",
    "        liq_vol_all['BIDLO'].iloc[i]))**2)\n",
    "        gamma_array=np.array(gamma)"
   ]
  },
  {
   "cell_type": "code",
   "execution_count": 43,
   "metadata": {},
   "outputs": [],
   "source": [
    "beta=[]\n",
    "for j in liq_vol_all.TICKER.unique():\n",
    "    for i in range(len(liq_vol_all[liq_vol_all.TICKER==j])):\n",
    "        beta.append((liq_vol_all['ASKHI'].iloc[i+1]-\n",
    "        liq_vol_all['BIDLO'].iloc[i+1])**2+\n",
    "        (liq_vol_all['ASKHI'].iloc[i]-\n",
    "        liq_vol_all['BIDLO'].iloc[i])**2)\n",
    "        beta_array=np.array(beta)\n",
    "        "
   ]
  },
  {
   "cell_type": "code",
   "execution_count": 44,
   "metadata": {},
   "outputs": [],
   "source": [
    "alpha=((np.sqrt(2*beta_array)-np.sqrt(beta_array))/\n",
    "(3-(2*np.sqrt(2))))-np.sqrt(gamma_array/\n",
    "(3-(2*np.sqrt(2))))\n",
    "CS_spread=(2*np.exp(alpha-1))/(1+np.exp(alpha))\n"
   ]
  },
  {
   "cell_type": "code",
   "execution_count": 45,
   "metadata": {},
   "outputs": [],
   "source": [
    "liq_vol_all=liq_vol_all.reset_index()\n",
    "liq_vol_all['roll']=pd.DataFrame(roll)\n",
    "liq_vol_all['CS_spread']=pd.DataFrame(CS_spread)"
   ]
  },
  {
   "cell_type": "code",
   "execution_count": 46,
   "metadata": {},
   "outputs": [],
   "source": [
    "dvol=[]\n",
    "for j in liq_vol_all.TICKER.unique():\n",
    "    for i in range(len(liq_vol_all[liq_vol_all.TICKER==j])):\n",
    "        dvol.append((liq_vol_all['PRC'][i:i+5]*\n",
    "        liq_vol_all['VOL'][i:i+5]).sum())\n",
    "liq_vol_all['dvol']=pd.DataFrame(dvol)\n"
   ]
  },
  {
   "cell_type": "code",
   "execution_count": 47,
   "metadata": {},
   "outputs": [],
   "source": [
    "amihud=[]\n",
    "\n",
    "for j in liq_vol_all.TICKER.unique():\n",
    "    for i in range(len(liq_vol_all[liq_vol_all.TICKER==j])):\n",
    "        amihud.append((1/liq_vol_all['RET'].count())*\n",
    "        (np.sum(np.abs(liq_vol_all['RET'][i:i+1]))/\n",
    "        np.sum(liq_vol_all['dvol'][i:i+1])))\n"
   ]
  },
  {
   "cell_type": "code",
   "execution_count": 48,
   "metadata": {},
   "outputs": [],
   "source": [
    "florackis=[]\n",
    "\n",
    "for j in liq_vol_all.TICKER.unique():\n",
    "    for i in range(len(liq_vol_all[liq_vol_all.TICKER==j])):\n",
    "        florackis.append((1/liq_vol_all['RET'].count())*\n",
    "        (np.sum(np.abs(liq_vol_all['RET'][i:i+1])/\n",
    "        liq_vol_all[\"turnover_ratio\"][i:i+1])))"
   ]
  },
  {
   "cell_type": "code",
   "execution_count": 49,
   "metadata": {},
   "outputs": [],
   "source": [
    "liq_vol_all['vol_diff_pct']=liq_vol_all.groupby('TICKER')['VOL']\\\n",
    "    .apply(lambda x: x.diff()).pct_change()\n",
    "liq_vol_all['price_diff_pct']=liq_vol_all.groupby('TICKER')['PRC']\\\n",
    "    .apply(lambda x: x.diff()).pct_change()\n"
   ]
  },
  {
   "cell_type": "code",
   "execution_count": 50,
   "metadata": {},
   "outputs": [],
   "source": [
    "cet=[]\n",
    "for j in liq_vol_all.TICKER.unique():\n",
    "    for i in range(len(liq_vol_all[liq_vol_all.TICKER==j])):\n",
    "        cet.append(np.sum(liq_vol_all['vol_diff_pct'][i:i+1])/\n",
    "    np.sum(liq_vol_all['price_diff_pct'][i:i+1]))"
   ]
  },
  {
   "cell_type": "code",
   "execution_count": 51,
   "metadata": {},
   "outputs": [],
   "source": [
    "liq_vol_all['amihud']=pd.DataFrame(amihud)\n",
    "liq_vol_all['florackis']=pd.DataFrame(florackis)\n",
    "liq_vol_all['cet']=pd.DataFrame(cet)\n"
   ]
  },
  {
   "cell_type": "code",
   "execution_count": 52,
   "metadata": {},
   "outputs": [],
   "source": [
    "import statsmodels.api as sm "
   ]
  },
  {
   "cell_type": "code",
   "execution_count": 53,
   "metadata": {},
   "outputs": [],
   "source": [
    "liq_vol_all['VOL_pct_change']=liq_vol_all.groupby('TICKER')['VOL']\\\n",
    "    .apply(lambda x: x.pct_change())\n",
    "liq_vol_all.dropna(subset=['VOL_pct_change'], inplace=True)\n",
    "liq_vol_all=liq_vol_all.reset_index()"
   ]
  },
  {
   "cell_type": "code",
   "execution_count": 54,
   "metadata": {},
   "outputs": [],
   "source": [
    "unsys_resid=[]\n",
    "\n",
    "for i in liq_vol_all.TICKER.unique():\n",
    "    X1=liq_vol_all[liq_vol_all['TICKER']==i]['vwretx']\n",
    "    y=liq_vol_all[liq_vol_all['TICKER']==i]['RET']\n",
    "    ols=sm.OLS(y, X1).fit()\n",
    "    unsys_resid.append(ols.resid)"
   ]
  },
  {
   "cell_type": "code",
   "execution_count": 55,
   "metadata": {},
   "outputs": [
    {
     "name": "stdout",
     "output_type": "stream",
     "text": [
      "******************************************************************************************\n",
      "OLS Result for INTC\n",
      "                                 OLS Regression Results                                \n",
      "=======================================================================================\n",
      "Dep. Variable:                      y   R-squared (uncentered):                   0.157\n",
      "Model:                            OLS   Adj. R-squared (uncentered):              0.154\n",
      "Method:                 Least Squares   F-statistic:                              46.31\n",
      "Date:                Sun, 02 Apr 2023   Prob (F-statistic):                    7.53e-11\n",
      "Time:                        21:28:56   Log-Likelihood:                          1444.9\n",
      "No. Observations:                 249   AIC:                                     -2888.\n",
      "Df Residuals:                     248   BIC:                                     -2884.\n",
      "Df Model:                           1                                                  \n",
      "Covariance Type:            nonrobust                                                  \n",
      "==================================================================================\n",
      "                     coef    std err          t      P>|t|      [0.025      0.975]\n",
      "----------------------------------------------------------------------------------\n",
      "VOL_pct_change     0.0008      0.000      6.805      0.000       0.001       0.001\n",
      "==============================================================================\n",
      "Omnibus:                      373.849   Durbin-Watson:                   1.908\n",
      "Prob(Omnibus):                  0.000   Jarque-Bera (JB):            53506.774\n",
      "Skew:                           7.228   Prob(JB):                         0.00\n",
      "Kurtosis:                      73.344   Cond. No.                         1.00\n",
      "==============================================================================\n",
      "\n",
      "Notes:\n",
      "[1] R² is computed without centering (uncentered) since the model does not contain a constant.\n",
      "[2] Standard Errors assume that the covariance matrix of the errors is correctly specified.\n",
      "******************************************************************************************\n",
      "OLS Result for MSFT\n",
      "                                 OLS Regression Results                                \n",
      "=======================================================================================\n",
      "Dep. Variable:                      y   R-squared (uncentered):                   0.044\n",
      "Model:                            OLS   Adj. R-squared (uncentered):              0.040\n",
      "Method:                 Least Squares   F-statistic:                              11.45\n",
      "Date:                Sun, 02 Apr 2023   Prob (F-statistic):                    0.000833\n",
      "Time:                        21:28:56   Log-Likelihood:                          1851.0\n",
      "No. Observations:                 249   AIC:                                     -3700.\n",
      "Df Residuals:                     248   BIC:                                     -3696.\n",
      "Df Model:                           1                                                  \n",
      "Covariance Type:            nonrobust                                                  \n",
      "==================================================================================\n",
      "                     coef    std err          t      P>|t|      [0.025      0.975]\n",
      "----------------------------------------------------------------------------------\n",
      "VOL_pct_change  9.641e-05   2.85e-05      3.383      0.001    4.03e-05       0.000\n",
      "==============================================================================\n",
      "Omnibus:                      285.769   Durbin-Watson:                   1.533\n",
      "Prob(Omnibus):                  0.000   Jarque-Bera (JB):            11207.666\n",
      "Skew:                           4.937   Prob(JB):                         0.00\n",
      "Kurtosis:                      34.349   Cond. No.                         1.00\n",
      "==============================================================================\n",
      "\n",
      "Notes:\n",
      "[1] R² is computed without centering (uncentered) since the model does not contain a constant.\n",
      "[2] Standard Errors assume that the covariance matrix of the errors is correctly specified.\n",
      "******************************************************************************************\n",
      "OLS Result for IBM\n",
      "                                 OLS Regression Results                                \n",
      "=======================================================================================\n",
      "Dep. Variable:                      y   R-squared (uncentered):                   0.134\n",
      "Model:                            OLS   Adj. R-squared (uncentered):              0.130\n",
      "Method:                 Least Squares   F-statistic:                              38.36\n",
      "Date:                Sun, 02 Apr 2023   Prob (F-statistic):                    2.43e-09\n",
      "Time:                        21:28:57   Log-Likelihood:                          1547.1\n",
      "No. Observations:                 249   AIC:                                     -3092.\n",
      "Df Residuals:                     248   BIC:                                     -3089.\n",
      "Df Model:                           1                                                  \n",
      "Covariance Type:            nonrobust                                                  \n",
      "==================================================================================\n",
      "                     coef    std err          t      P>|t|      [0.025      0.975]\n",
      "----------------------------------------------------------------------------------\n",
      "VOL_pct_change     0.0005   7.43e-05      6.193      0.000       0.000       0.001\n",
      "==============================================================================\n",
      "Omnibus:                      446.818   Durbin-Watson:                   2.034\n",
      "Prob(Omnibus):                  0.000   Jarque-Bera (JB):           156387.719\n",
      "Skew:                           9.835   Prob(JB):                         0.00\n",
      "Kurtosis:                     124.188   Cond. No.                         1.00\n",
      "==============================================================================\n",
      "\n",
      "Notes:\n",
      "[1] R² is computed without centering (uncentered) since the model does not contain a constant.\n",
      "[2] Standard Errors assume that the covariance matrix of the errors is correctly specified.\n"
     ]
    }
   ],
   "source": [
    "market_impact={}\n",
    "for i, j in zip(liq_vol_all.TICKER.unique(),\\\n",
    "    range(len(liq_vol_all['TICKER'].unique()))):\n",
    "    X2=liq_vol_all[liq_vol_all['TICKER']==i]['VOL_pct_change']\n",
    "    ols=sm.OLS(unsys_resid[j]**2,X2).fit()\n",
    "    print('***'*30)\n",
    "    print(f'OLS Result for {i}')\n",
    "    print(ols.summary())\n",
    "    market_impact[j]=ols.resid \n"
   ]
  },
  {
   "cell_type": "code",
   "execution_count": 56,
   "metadata": {},
   "outputs": [],
   "source": [
    "append1=market_impact[0].append(market_impact[1])\n",
    "liq_vol_all['market_impact']=append1.append(market_impact[2])\n"
   ]
  },
  {
   "cell_type": "code",
   "execution_count": 64,
   "metadata": {},
   "outputs": [
    {
     "data": {
      "text/html": [
       "<div>\n",
       "<style scoped>\n",
       "    .dataframe tbody tr th:only-of-type {\n",
       "        vertical-align: middle;\n",
       "    }\n",
       "\n",
       "    .dataframe tbody tr th {\n",
       "        vertical-align: top;\n",
       "    }\n",
       "\n",
       "    .dataframe thead th {\n",
       "        text-align: right;\n",
       "    }\n",
       "</style>\n",
       "<table border=\"1\" class=\"dataframe\">\n",
       "  <thead>\n",
       "    <tr style=\"text-align: right;\">\n",
       "      <th></th>\n",
       "      <th>count</th>\n",
       "      <th>mean</th>\n",
       "      <th>std</th>\n",
       "      <th>min</th>\n",
       "      <th>25%</th>\n",
       "      <th>50%</th>\n",
       "      <th>75%</th>\n",
       "      <th>max</th>\n",
       "    </tr>\n",
       "  </thead>\n",
       "  <tbody>\n",
       "    <tr>\n",
       "      <th>liq_ratio</th>\n",
       "      <td>738.0</td>\n",
       "      <td>7.368514e+10</td>\n",
       "      <td>2.569030e+11</td>\n",
       "      <td>8.065402e+08</td>\n",
       "      <td>1.378496e+10</td>\n",
       "      <td>2.261858e+10</td>\n",
       "      <td>4.505784e+10</td>\n",
       "      <td>3.095986e+12</td>\n",
       "    </tr>\n",
       "    <tr>\n",
       "      <th>Lhh</th>\n",
       "      <td>738.0</td>\n",
       "      <td>3.340167e-05</td>\n",
       "      <td>5.371681e-05</td>\n",
       "      <td>3.966368e-06</td>\n",
       "      <td>1.694354e-05</td>\n",
       "      <td>2.368095e-05</td>\n",
       "      <td>3.558960e-05</td>\n",
       "      <td>5.824148e-04</td>\n",
       "    </tr>\n",
       "    <tr>\n",
       "      <th>turnover_ratio</th>\n",
       "      <td>738.0</td>\n",
       "      <td>6.491127e-03</td>\n",
       "      <td>2.842668e-03</td>\n",
       "      <td>1.916371e-03</td>\n",
       "      <td>4.897990e-03</td>\n",
       "      <td>5.764112e-03</td>\n",
       "      <td>7.423111e-03</td>\n",
       "      <td>2.542853e-02</td>\n",
       "    </tr>\n",
       "    <tr>\n",
       "      <th>roll</th>\n",
       "      <td>738.0</td>\n",
       "      <td>8.190794e-01</td>\n",
       "      <td>6.066821e-01</td>\n",
       "      <td>7.615773e-02</td>\n",
       "      <td>4.574986e-01</td>\n",
       "      <td>6.975982e-01</td>\n",
       "      <td>1.011879e+00</td>\n",
       "      <td>4.178873e+00</td>\n",
       "    </tr>\n",
       "    <tr>\n",
       "      <th>CS_spread</th>\n",
       "      <td>738.0</td>\n",
       "      <td>3.305464e-01</td>\n",
       "      <td>1.267434e-01</td>\n",
       "      <td>1.773438e-40</td>\n",
       "      <td>2.444225e-01</td>\n",
       "      <td>3.609800e-01</td>\n",
       "      <td>4.188028e-01</td>\n",
       "      <td>5.877726e-01</td>\n",
       "    </tr>\n",
       "    <tr>\n",
       "      <th>amihud</th>\n",
       "      <td>738.0</td>\n",
       "      <td>2.777021e-15</td>\n",
       "      <td>2.319450e-15</td>\n",
       "      <td>0.000000e+00</td>\n",
       "      <td>1.117729e-15</td>\n",
       "      <td>2.220439e-15</td>\n",
       "      <td>3.766086e-15</td>\n",
       "      <td>1.320828e-14</td>\n",
       "    </tr>\n",
       "    <tr>\n",
       "      <th>florackis</th>\n",
       "      <td>738.0</td>\n",
       "      <td>2.284291e-03</td>\n",
       "      <td>1.546181e-03</td>\n",
       "      <td>0.000000e+00</td>\n",
       "      <td>1.059446e-03</td>\n",
       "      <td>2.013517e-03</td>\n",
       "      <td>3.324181e-03</td>\n",
       "      <td>7.869841e-03</td>\n",
       "    </tr>\n",
       "    <tr>\n",
       "      <th>cet</th>\n",
       "      <td>738.0</td>\n",
       "      <td>-1.113583e+00</td>\n",
       "      <td>3.333932e+01</td>\n",
       "      <td>-4.575246e+02</td>\n",
       "      <td>-1.687807e-01</td>\n",
       "      <td>5.654237e-01</td>\n",
       "      <td>1.660166e+00</td>\n",
       "      <td>1.845917e+02</td>\n",
       "    </tr>\n",
       "    <tr>\n",
       "      <th>market_impact</th>\n",
       "      <td>738.0</td>\n",
       "      <td>8.614680e-05</td>\n",
       "      <td>5.087547e-04</td>\n",
       "      <td>-1.596135e-03</td>\n",
       "      <td>-3.010645e-05</td>\n",
       "      <td>3.383862e-05</td>\n",
       "      <td>1.309451e-04</td>\n",
       "      <td>8.165527e-03</td>\n",
       "    </tr>\n",
       "    <tr>\n",
       "      <th>percent_quoted_ba</th>\n",
       "      <td>738.0</td>\n",
       "      <td>1.565276e-02</td>\n",
       "      <td>7.562850e-03</td>\n",
       "      <td>3.779877e-03</td>\n",
       "      <td>1.041887e-02</td>\n",
       "      <td>1.379992e-02</td>\n",
       "      <td>1.878123e-02</td>\n",
       "      <td>5.545110e-02</td>\n",
       "    </tr>\n",
       "    <tr>\n",
       "      <th>percent_effective_ba</th>\n",
       "      <td>738.0</td>\n",
       "      <td>8.334177e-03</td>\n",
       "      <td>7.100304e-03</td>\n",
       "      <td>0.000000e+00</td>\n",
       "      <td>3.032785e-03</td>\n",
       "      <td>6.851479e-03</td>\n",
       "      <td>1.152485e-02</td>\n",
       "      <td>4.656669e-02</td>\n",
       "    </tr>\n",
       "  </tbody>\n",
       "</table>\n",
       "</div>"
      ],
      "text/plain": [
       "                      count          mean           std           min  \\\n",
       "liq_ratio             738.0  7.368514e+10  2.569030e+11  8.065402e+08   \n",
       "Lhh                   738.0  3.340167e-05  5.371681e-05  3.966368e-06   \n",
       "turnover_ratio        738.0  6.491127e-03  2.842668e-03  1.916371e-03   \n",
       "roll                  738.0  8.190794e-01  6.066821e-01  7.615773e-02   \n",
       "CS_spread             738.0  3.305464e-01  1.267434e-01  1.773438e-40   \n",
       "amihud                738.0  2.777021e-15  2.319450e-15  0.000000e+00   \n",
       "florackis             738.0  2.284291e-03  1.546181e-03  0.000000e+00   \n",
       "cet                   738.0 -1.113583e+00  3.333932e+01 -4.575246e+02   \n",
       "market_impact         738.0  8.614680e-05  5.087547e-04 -1.596135e-03   \n",
       "percent_quoted_ba     738.0  1.565276e-02  7.562850e-03  3.779877e-03   \n",
       "percent_effective_ba  738.0  8.334177e-03  7.100304e-03  0.000000e+00   \n",
       "\n",
       "                               25%           50%           75%           max  \n",
       "liq_ratio             1.378496e+10  2.261858e+10  4.505784e+10  3.095986e+12  \n",
       "Lhh                   1.694354e-05  2.368095e-05  3.558960e-05  5.824148e-04  \n",
       "turnover_ratio        4.897990e-03  5.764112e-03  7.423111e-03  2.542853e-02  \n",
       "roll                  4.574986e-01  6.975982e-01  1.011879e+00  4.178873e+00  \n",
       "CS_spread             2.444225e-01  3.609800e-01  4.188028e-01  5.877726e-01  \n",
       "amihud                1.117729e-15  2.220439e-15  3.766086e-15  1.320828e-14  \n",
       "florackis             1.059446e-03  2.013517e-03  3.324181e-03  7.869841e-03  \n",
       "cet                  -1.687807e-01  5.654237e-01  1.660166e+00  1.845917e+02  \n",
       "market_impact        -3.010645e-05  3.383862e-05  1.309451e-04  8.165527e-03  \n",
       "percent_quoted_ba     1.041887e-02  1.379992e-02  1.878123e-02  5.545110e-02  \n",
       "percent_effective_ba  3.032785e-03  6.851479e-03  1.152485e-02  4.656669e-02  "
      ]
     },
     "execution_count": 64,
     "metadata": {},
     "output_type": "execute_result"
    }
   ],
   "source": [
    "cols=['vol_diff_pct', 'price_diff_pct', 'price_diff', 'VOL_pct_change', 'dvol', 'mid_price']\n",
    "liq_measures_all=liq_vol_all.drop(liq_vol_all[cols], axis=1)\\\n",
    "    .iloc[:, -11:]\n",
    "liq_measures_all.dropna(inplace=True)\n",
    "liq_measures_all.describe().T "
   ]
  },
  {
   "cell_type": "code",
   "execution_count": 65,
   "metadata": {},
   "outputs": [],
   "source": [
    "from sklearn.mixture import GaussianMixture\n",
    "from sklearn.preprocessing import StandardScaler \n"
   ]
  },
  {
   "cell_type": "code",
   "execution_count": 66,
   "metadata": {},
   "outputs": [],
   "source": [
    "liq_measures_all2=liq_measures_all.dropna()\n",
    "scaled_liq=StandardScaler().fit_transform(liq_measures_all2)\n"
   ]
  },
  {
   "cell_type": "code",
   "execution_count": 67,
   "metadata": {},
   "outputs": [
    {
     "data": {
      "image/png": "[encoded data removed]",
      "text/plain": [
       "<Figure size 1000x600 with 1 Axes>"
      ]
     },
     "metadata": {},
     "output_type": "display_data"
    }
   ],
   "source": [
    "kwargs=dict(alpha=0.5, bins=50, stacked=True)\n",
    "plt.hist(liq_measures_all.loc[:, 'percent_quoted_ba'],\n",
    "**kwargs, label='TC-based')\n",
    "plt.hist(liq_measures_all.loc[:, 'turnover_ratio'],\n",
    "**kwargs, label='Volume-based')\n",
    "plt.hist(liq_measures_all.loc[:, 'market_impact'],\n",
    "**kwargs,label='Market-based')\n",
    "plt.title('Multi Modality of the Liquidity Measures')\n",
    "plt.legend()\n",
    "plt.show()"
   ]
  },
  {
   "cell_type": "code",
   "execution_count": 68,
   "metadata": {},
   "outputs": [
    {
     "data": {
      "image/png": "[encoded data removed]",
      "text/plain": [
       "<Figure size 1000x600 with 1 Axes>"
      ]
     },
     "metadata": {},
     "output_type": "display_data"
    }
   ],
   "source": [
    "n_components=np.arange(1,10)\n",
    "clusters=[GaussianMixture(n, covariance_type='spherical',\n",
    "random_state=0).fit(scaled_liq)\n",
    "for n in n_components]\n",
    "plt.plot(n_components, [m.bic(scaled_liq) for m in clusters])\n",
    "plt.title('Optimum Number of Components')\n",
    "plt.xlabel('n_components')\n",
    "plt.ylabel('BIC values')\n",
    "plt.show()\n"
   ]
  },
  {
   "cell_type": "code",
   "execution_count": 69,
   "metadata": {},
   "outputs": [],
   "source": [
    "def cluster_state(data, nstates):\n",
    "    gmm=GaussianMixture(n_components=nstates,\n",
    "    covariance_type='spherical',\n",
    "    init_params='kmeans')\n",
    "    gmm_fit=gmm.fit(scaled_liq)\n",
    "    labels=gmm_fit.predict(scaled_liq)\n",
    "    state_probs=gmm.predict_proba(scaled_liq)\n",
    "    state_probs_df=pd.DataFrame(state_probs, \n",
    "    columns=['state-1', 'state-2', 'state-3'])\n",
    "    state_prob_means=[state_probs_df.iloc[:,i].mean()\n",
    "    for i in range(len(state_probs_df.columns))]\n",
    "    if np.max(state_prob_means)==state_prob_means[0]:\n",
    "        print('State-1 is likely to occur with a probability of {:4f}'.format(state_prob_means[0]))\n",
    "    elif np.max(state_prob_means)==state_prob_means[1]:\n",
    "        print('State-2 is likely to occur with a probability of {:4f}'.format(state_prob_means[1]))\n",
    "    else:\n",
    "        print('State-3 is likely to occur with a probability of {:4f}'.format(state_prob_means[2]))\n",
    "    return state_probs "
   ]
  },
  {
   "cell_type": "code",
   "execution_count": 70,
   "metadata": {},
   "outputs": [
    {
     "name": "stdout",
     "output_type": "stream",
     "text": [
      "State-3 is likely to occur with a probability of 0.549953\n",
      "State probabilities are [0.38713538 0.06291121 0.54995341]\n"
     ]
    }
   ],
   "source": [
    "state_probs=cluster_state(scaled_liq, 3)\n",
    "print(f'State probabilities are {state_probs.mean(axis=0)}')"
   ]
  },
  {
   "cell_type": "code",
   "execution_count": 71,
   "metadata": {},
   "outputs": [
    {
     "data": {
      "image/png": "[encoded data removed]",
      "text/plain": [
       "<Figure size 1000x600 with 1 Axes>"
      ]
     },
     "metadata": {},
     "output_type": "display_data"
    }
   ],
   "source": [
    "from sklearn.decomposition import PCA \n",
    "\n",
    "pca=PCA(n_components=11)\n",
    "components=pca.fit_transform(scaled_liq)\n",
    "plt.plot(pca.explained_variance_ratio_)\n",
    "plt.title('Scree Plot')\n",
    "plt.xlabel('Number of Components')\n",
    "plt.ylabel('% of Explained Variance')\n",
    "plt.show()"
   ]
  },
  {
   "cell_type": "code",
   "execution_count": 74,
   "metadata": {},
   "outputs": [],
   "source": [
    "def gmm_pca(data, nstate):\n",
    "    pca=PCA(n_components=3)\n",
    "    components=pca.fit_transform(data)\n",
    "    mxtd=GaussianMixture(n_components=nstate, covariance_type='spherical')\n",
    "    gmm=mxtd.fit(components)\n",
    "    labels=gmm.predict(components)\n",
    "    state_probs=gmm.predict_proba(components)\n",
    "    return state_probs, pca \n",
    "\n"
   ]
  },
  {
   "cell_type": "code",
   "execution_count": 75,
   "metadata": {},
   "outputs": [
    {
     "name": "stdout",
     "output_type": "stream",
     "text": [
      "State probabilities are [0.01626015 0.24913847 0.73460138]\n"
     ]
    }
   ],
   "source": [
    "state_probs, pca=gmm_pca(scaled_liq, 3)\n",
    "print(f'State probabilities are {state_probs.mean(axis=0)}')"
   ]
  },
  {
   "cell_type": "code",
   "execution_count": 81,
   "metadata": {},
   "outputs": [
    {
     "data": {
      "text/plain": [
       "array([[9.31402915e-30, 3.93192273e-02, 9.60680773e-01],\n",
       "       [4.69720066e-27, 2.91446997e-01, 7.08553003e-01],\n",
       "       [1.55509285e-33, 8.43360623e-02, 9.15663938e-01],\n",
       "       ...,\n",
       "       [1.00000000e+00, 2.10084170e-10, 3.88534013e-32],\n",
       "       [9.99993949e-01, 6.05079723e-06, 2.19210255e-22],\n",
       "       [9.99999435e-01, 5.65415554e-07, 4.32335123e-23]])"
      ]
     },
     "execution_count": 81,
     "metadata": {},
     "output_type": "execute_result"
    }
   ],
   "source": [
    "compo"
   ]
  },
  {
   "cell_type": "code",
   "execution_count": 77,
   "metadata": {},
   "outputs": [
    {
     "name": "stdout",
     "output_type": "stream",
     "text": [
      "State-3 is likely to occur with a probability of 0.734601\n"
     ]
    }
   ],
   "source": [
    "def wpc():\n",
    "    state_probs_df=pd.DataFrame(state_probs, columns=['state-1', 'state-2', 'state-3'])\n",
    "    state_prob_means=[state_probs_df.iloc[:,i].mean()\n",
    "    for i in range(len(state_probs_df.columns))]\n",
    "    if np.max(state_prob_means)==state_prob_means[0]:\n",
    "        print('State-1 is likely to occur with a probability of {:4f}'.format(state_prob_means[0]))\n",
    "    elif np.max(state_prob_means)==state_prob_means[1]:\n",
    "        print('State-2 is likely to occur with a probability of {:4f}'.format(state_prob_means[1]))\n",
    "    else:\n",
    "        print('State-3 is likely to occur with a probability of {:4f}'.format(state_prob_means[2]))\n",
    "\n",
    "wpc()"
   ]
  },
  {
   "cell_type": "code",
   "execution_count": null,
   "metadata": {},
   "outputs": [],
   "source": []
  }
 ],
 "metadata": {
  "kernelspec": {
   "display_name": "Python 3",
   "language": "python",
   "name": "python3"
  },
  "language_info": {
   "codemirror_mode": {
    "name": "ipython",
    "version": 3
   },
   "file_extension": ".py",
   "mimetype": "text/x-python",
   "name": "python",
   "nbconvert_exporter": "python",
   "pygments_lexer": "ipython3",
   "version": "3.10.10"
  },
  "orig_nbformat": 4
 },
 "nbformat": 4,
 "nbformat_minor": 2
}
